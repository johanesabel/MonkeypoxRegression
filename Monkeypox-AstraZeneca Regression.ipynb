{
  "nbformat": 4,
  "nbformat_minor": 0,
  "metadata": {
    "colab": {
      "provenance": []
    },
    "kernelspec": {
      "name": "python3",
      "display_name": "Python 3"
    },
    "language_info": {
      "name": "python"
    }
  },
  "cells": [
    {
      "cell_type": "markdown",
      "source": [
        "### ETS Machine Learning"
      ],
      "metadata": {
        "id": "WvazZnKnBR18"
      }
    },
    {
      "cell_type": "markdown",
      "source": [
        "Pada projek  kali ini akan dilakukan analisis mengenai pembuktian bahwa penyakit cacar monyet atau *Monkeypox* tidak terkait dengan vaksin AstraZenecca melainkan disebabkan oleh faktor-faktor lain yang relevan.\n",
        "Analisis pada projek ini menggunakan metode *Supervised Learning* yakni dengan *Regression Method* berupa *Multiple Linear Regression*, *Support Vector Regression*, dan *Decision Tree*."
      ],
      "metadata": {
        "id": "B6qQITiPBd8u"
      }
    },
    {
      "cell_type": "markdown",
      "source": [
        "\n",
        "*    **Data Pre-Processing**"
      ],
      "metadata": {
        "id": "WWRHlYyVGoxL"
      }
    },
    {
      "cell_type": "code",
      "execution_count": null,
      "metadata": {
        "id": "G75so71ENYAA"
      },
      "outputs": [],
      "source": [
        "# import libraries\n",
        "import pandas as pd\n",
        "import numpy as np\n",
        "import matplotlib.pyplot as plt\n",
        "import seaborn as sns\n",
        "import statsmodels.api as sm\n",
        "\n",
        "from sklearn.model_selection import train_test_split #untuk splitting data\n",
        "from sklearn.linear_model import LinearRegression #untuk buat prediksi linearRegression\n",
        "from sklearn.metrics import mean_squared_error # for calculating the cost function\n",
        "from sklearn.svm import SVR #svr model\n",
        "from sklearn.tree import DecisionTreeRegressor # for building the model\n",
        "from sklearn.preprocessing import StandardScaler\n",
        "\n",
        "\n",
        "from sklearn import metrics #untuk mengukur performa model\n",
        "from sklearn.metrics import mean_squared_error, r2_score"
      ]
    },
    {
      "cell_type": "code",
      "source": [
        "\n",
        "# load dataset into pandas\n",
        "df = pd.read_csv('Data Cacar Monyet.csv')\n",
        "df.head(5)"
      ],
      "metadata": {
        "colab": {
          "base_uri": "https://localhost:8080/",
          "height": 256
        },
        "id": "WD4yQXfOOPCQ",
        "outputId": "0f009100-4b1b-4964-feff-a3c6c3c7079f"
      },
      "execution_count": null,
      "outputs": [
        {
          "output_type": "execute_result",
          "data": {
            "text/plain": [
              "  iso_code continent location      date  total_cases  reproduction_rate  \\\n",
              "0      BHR      Asia  Bahrain  1/1/2022     282062.0               2.04   \n",
              "1      BHR      Asia  Bahrain  1/2/2022     282677.0               2.02   \n",
              "2      BHR      Asia  Bahrain  1/3/2022     283344.0               2.02   \n",
              "3      BHR      Asia  Bahrain  1/4/2022     284224.0               2.00   \n",
              "4      BHR      Asia  Bahrain  1/5/2022     285448.0               1.96   \n",
              "\n",
              "   new_vaccinations_smoothed_per_million  new_people_vaccinated_smoothed  \\\n",
              "0                                 5477.0                           540.0   \n",
              "1                                 4833.0                           484.0   \n",
              "2                                 4571.0                           471.0   \n",
              "3                                 4276.0                           447.0   \n",
              "4                                 4094.0                           439.0   \n",
              "\n",
              "   new_people_vaccinated_smoothed_per_hundred  stringency_index  ...  \\\n",
              "0                                       0.037             30.18  ...   \n",
              "1                                       0.033             30.17  ...   \n",
              "2                                       0.032             30.16  ...   \n",
              "3                                       0.030             30.16  ...   \n",
              "4                                       0.030             30.15  ...   \n",
              "\n",
              "  male_smokers  handwashing_facilities  hospital_beds_per_thousand  \\\n",
              "0         37.6                     NaN                         2.0   \n",
              "1         37.6                     NaN                         2.0   \n",
              "2         37.6                     NaN                         2.0   \n",
              "3         37.6                     NaN                         2.0   \n",
              "4         37.6                     NaN                         2.0   \n",
              "\n",
              "   life_expectancy human_development_index  population  \\\n",
              "0            77.29                   0.852     1472237   \n",
              "1            77.29                   0.852     1472237   \n",
              "2            77.29                   0.852     1472237   \n",
              "3            77.29                   0.852     1472237   \n",
              "4            77.29                   0.852     1472237   \n",
              "\n",
              "   excess_mortality_cumulative_absolute  excess_mortality_cumulative  \\\n",
              "0                                   NaN                          NaN   \n",
              "1                                   NaN                          NaN   \n",
              "2                                   NaN                          NaN   \n",
              "3                                   NaN                          NaN   \n",
              "4                                   NaN                          NaN   \n",
              "\n",
              "   excess_mortality  excess_mortality_cumulative_per_million  \n",
              "0               NaN                                      NaN  \n",
              "1               NaN                                      NaN  \n",
              "2               NaN                                      NaN  \n",
              "3               NaN                                      NaN  \n",
              "4               NaN                                      NaN  \n",
              "\n",
              "[5 rows x 29 columns]"
            ],
            "text/html": [
              "\n",
              "  <div id=\"df-88793c9f-6b8d-4b2b-9f9e-f6e8bb603264\" class=\"colab-df-container\">\n",
              "    <div>\n",
              "<style scoped>\n",
              "    .dataframe tbody tr th:only-of-type {\n",
              "        vertical-align: middle;\n",
              "    }\n",
              "\n",
              "    .dataframe tbody tr th {\n",
              "        vertical-align: top;\n",
              "    }\n",
              "\n",
              "    .dataframe thead th {\n",
              "        text-align: right;\n",
              "    }\n",
              "</style>\n",
              "<table border=\"1\" class=\"dataframe\">\n",
              "  <thead>\n",
              "    <tr style=\"text-align: right;\">\n",
              "      <th></th>\n",
              "      <th>iso_code</th>\n",
              "      <th>continent</th>\n",
              "      <th>location</th>\n",
              "      <th>date</th>\n",
              "      <th>total_cases</th>\n",
              "      <th>reproduction_rate</th>\n",
              "      <th>new_vaccinations_smoothed_per_million</th>\n",
              "      <th>new_people_vaccinated_smoothed</th>\n",
              "      <th>new_people_vaccinated_smoothed_per_hundred</th>\n",
              "      <th>stringency_index</th>\n",
              "      <th>...</th>\n",
              "      <th>male_smokers</th>\n",
              "      <th>handwashing_facilities</th>\n",
              "      <th>hospital_beds_per_thousand</th>\n",
              "      <th>life_expectancy</th>\n",
              "      <th>human_development_index</th>\n",
              "      <th>population</th>\n",
              "      <th>excess_mortality_cumulative_absolute</th>\n",
              "      <th>excess_mortality_cumulative</th>\n",
              "      <th>excess_mortality</th>\n",
              "      <th>excess_mortality_cumulative_per_million</th>\n",
              "    </tr>\n",
              "  </thead>\n",
              "  <tbody>\n",
              "    <tr>\n",
              "      <th>0</th>\n",
              "      <td>BHR</td>\n",
              "      <td>Asia</td>\n",
              "      <td>Bahrain</td>\n",
              "      <td>1/1/2022</td>\n",
              "      <td>282062.0</td>\n",
              "      <td>2.04</td>\n",
              "      <td>5477.0</td>\n",
              "      <td>540.0</td>\n",
              "      <td>0.037</td>\n",
              "      <td>30.18</td>\n",
              "      <td>...</td>\n",
              "      <td>37.6</td>\n",
              "      <td>NaN</td>\n",
              "      <td>2.0</td>\n",
              "      <td>77.29</td>\n",
              "      <td>0.852</td>\n",
              "      <td>1472237</td>\n",
              "      <td>NaN</td>\n",
              "      <td>NaN</td>\n",
              "      <td>NaN</td>\n",
              "      <td>NaN</td>\n",
              "    </tr>\n",
              "    <tr>\n",
              "      <th>1</th>\n",
              "      <td>BHR</td>\n",
              "      <td>Asia</td>\n",
              "      <td>Bahrain</td>\n",
              "      <td>1/2/2022</td>\n",
              "      <td>282677.0</td>\n",
              "      <td>2.02</td>\n",
              "      <td>4833.0</td>\n",
              "      <td>484.0</td>\n",
              "      <td>0.033</td>\n",
              "      <td>30.17</td>\n",
              "      <td>...</td>\n",
              "      <td>37.6</td>\n",
              "      <td>NaN</td>\n",
              "      <td>2.0</td>\n",
              "      <td>77.29</td>\n",
              "      <td>0.852</td>\n",
              "      <td>1472237</td>\n",
              "      <td>NaN</td>\n",
              "      <td>NaN</td>\n",
              "      <td>NaN</td>\n",
              "      <td>NaN</td>\n",
              "    </tr>\n",
              "    <tr>\n",
              "      <th>2</th>\n",
              "      <td>BHR</td>\n",
              "      <td>Asia</td>\n",
              "      <td>Bahrain</td>\n",
              "      <td>1/3/2022</td>\n",
              "      <td>283344.0</td>\n",
              "      <td>2.02</td>\n",
              "      <td>4571.0</td>\n",
              "      <td>471.0</td>\n",
              "      <td>0.032</td>\n",
              "      <td>30.16</td>\n",
              "      <td>...</td>\n",
              "      <td>37.6</td>\n",
              "      <td>NaN</td>\n",
              "      <td>2.0</td>\n",
              "      <td>77.29</td>\n",
              "      <td>0.852</td>\n",
              "      <td>1472237</td>\n",
              "      <td>NaN</td>\n",
              "      <td>NaN</td>\n",
              "      <td>NaN</td>\n",
              "      <td>NaN</td>\n",
              "    </tr>\n",
              "    <tr>\n",
              "      <th>3</th>\n",
              "      <td>BHR</td>\n",
              "      <td>Asia</td>\n",
              "      <td>Bahrain</td>\n",
              "      <td>1/4/2022</td>\n",
              "      <td>284224.0</td>\n",
              "      <td>2.00</td>\n",
              "      <td>4276.0</td>\n",
              "      <td>447.0</td>\n",
              "      <td>0.030</td>\n",
              "      <td>30.16</td>\n",
              "      <td>...</td>\n",
              "      <td>37.6</td>\n",
              "      <td>NaN</td>\n",
              "      <td>2.0</td>\n",
              "      <td>77.29</td>\n",
              "      <td>0.852</td>\n",
              "      <td>1472237</td>\n",
              "      <td>NaN</td>\n",
              "      <td>NaN</td>\n",
              "      <td>NaN</td>\n",
              "      <td>NaN</td>\n",
              "    </tr>\n",
              "    <tr>\n",
              "      <th>4</th>\n",
              "      <td>BHR</td>\n",
              "      <td>Asia</td>\n",
              "      <td>Bahrain</td>\n",
              "      <td>1/5/2022</td>\n",
              "      <td>285448.0</td>\n",
              "      <td>1.96</td>\n",
              "      <td>4094.0</td>\n",
              "      <td>439.0</td>\n",
              "      <td>0.030</td>\n",
              "      <td>30.15</td>\n",
              "      <td>...</td>\n",
              "      <td>37.6</td>\n",
              "      <td>NaN</td>\n",
              "      <td>2.0</td>\n",
              "      <td>77.29</td>\n",
              "      <td>0.852</td>\n",
              "      <td>1472237</td>\n",
              "      <td>NaN</td>\n",
              "      <td>NaN</td>\n",
              "      <td>NaN</td>\n",
              "      <td>NaN</td>\n",
              "    </tr>\n",
              "  </tbody>\n",
              "</table>\n",
              "<p>5 rows × 29 columns</p>\n",
              "</div>\n",
              "    <div class=\"colab-df-buttons\">\n",
              "\n",
              "  <div class=\"colab-df-container\">\n",
              "    <button class=\"colab-df-convert\" onclick=\"convertToInteractive('df-88793c9f-6b8d-4b2b-9f9e-f6e8bb603264')\"\n",
              "            title=\"Convert this dataframe to an interactive table.\"\n",
              "            style=\"display:none;\">\n",
              "\n",
              "  <svg xmlns=\"http://www.w3.org/2000/svg\" height=\"24px\" viewBox=\"0 -960 960 960\">\n",
              "    <path d=\"M120-120v-720h720v720H120Zm60-500h600v-160H180v160Zm220 220h160v-160H400v160Zm0 220h160v-160H400v160ZM180-400h160v-160H180v160Zm440 0h160v-160H620v160ZM180-180h160v-160H180v160Zm440 0h160v-160H620v160Z\"/>\n",
              "  </svg>\n",
              "    </button>\n",
              "\n",
              "  <style>\n",
              "    .colab-df-container {\n",
              "      display:flex;\n",
              "      gap: 12px;\n",
              "    }\n",
              "\n",
              "    .colab-df-convert {\n",
              "      background-color: #E8F0FE;\n",
              "      border: none;\n",
              "      border-radius: 50%;\n",
              "      cursor: pointer;\n",
              "      display: none;\n",
              "      fill: #1967D2;\n",
              "      height: 32px;\n",
              "      padding: 0 0 0 0;\n",
              "      width: 32px;\n",
              "    }\n",
              "\n",
              "    .colab-df-convert:hover {\n",
              "      background-color: #E2EBFA;\n",
              "      box-shadow: 0px 1px 2px rgba(60, 64, 67, 0.3), 0px 1px 3px 1px rgba(60, 64, 67, 0.15);\n",
              "      fill: #174EA6;\n",
              "    }\n",
              "\n",
              "    .colab-df-buttons div {\n",
              "      margin-bottom: 4px;\n",
              "    }\n",
              "\n",
              "    [theme=dark] .colab-df-convert {\n",
              "      background-color: #3B4455;\n",
              "      fill: #D2E3FC;\n",
              "    }\n",
              "\n",
              "    [theme=dark] .colab-df-convert:hover {\n",
              "      background-color: #434B5C;\n",
              "      box-shadow: 0px 1px 3px 1px rgba(0, 0, 0, 0.15);\n",
              "      filter: drop-shadow(0px 1px 2px rgba(0, 0, 0, 0.3));\n",
              "      fill: #FFFFFF;\n",
              "    }\n",
              "  </style>\n",
              "\n",
              "    <script>\n",
              "      const buttonEl =\n",
              "        document.querySelector('#df-88793c9f-6b8d-4b2b-9f9e-f6e8bb603264 button.colab-df-convert');\n",
              "      buttonEl.style.display =\n",
              "        google.colab.kernel.accessAllowed ? 'block' : 'none';\n",
              "\n",
              "      async function convertToInteractive(key) {\n",
              "        const element = document.querySelector('#df-88793c9f-6b8d-4b2b-9f9e-f6e8bb603264');\n",
              "        const dataTable =\n",
              "          await google.colab.kernel.invokeFunction('convertToInteractive',\n",
              "                                                    [key], {});\n",
              "        if (!dataTable) return;\n",
              "\n",
              "        const docLinkHtml = 'Like what you see? Visit the ' +\n",
              "          '<a target=\"_blank\" href=https://colab.research.google.com/notebooks/data_table.ipynb>data table notebook</a>'\n",
              "          + ' to learn more about interactive tables.';\n",
              "        element.innerHTML = '';\n",
              "        dataTable['output_type'] = 'display_data';\n",
              "        await google.colab.output.renderOutput(dataTable, element);\n",
              "        const docLink = document.createElement('div');\n",
              "        docLink.innerHTML = docLinkHtml;\n",
              "        element.appendChild(docLink);\n",
              "      }\n",
              "    </script>\n",
              "  </div>\n",
              "\n",
              "\n",
              "<div id=\"df-5d6addac-51ab-45dc-b34e-e0f8d49084d6\">\n",
              "  <button class=\"colab-df-quickchart\" onclick=\"quickchart('df-5d6addac-51ab-45dc-b34e-e0f8d49084d6')\"\n",
              "            title=\"Suggest charts.\"\n",
              "            style=\"display:none;\">\n",
              "\n",
              "<svg xmlns=\"http://www.w3.org/2000/svg\" height=\"24px\"viewBox=\"0 0 24 24\"\n",
              "     width=\"24px\">\n",
              "    <g>\n",
              "        <path d=\"M19 3H5c-1.1 0-2 .9-2 2v14c0 1.1.9 2 2 2h14c1.1 0 2-.9 2-2V5c0-1.1-.9-2-2-2zM9 17H7v-7h2v7zm4 0h-2V7h2v10zm4 0h-2v-4h2v4z\"/>\n",
              "    </g>\n",
              "</svg>\n",
              "  </button>\n",
              "\n",
              "<style>\n",
              "  .colab-df-quickchart {\n",
              "      --bg-color: #E8F0FE;\n",
              "      --fill-color: #1967D2;\n",
              "      --hover-bg-color: #E2EBFA;\n",
              "      --hover-fill-color: #174EA6;\n",
              "      --disabled-fill-color: #AAA;\n",
              "      --disabled-bg-color: #DDD;\n",
              "  }\n",
              "\n",
              "  [theme=dark] .colab-df-quickchart {\n",
              "      --bg-color: #3B4455;\n",
              "      --fill-color: #D2E3FC;\n",
              "      --hover-bg-color: #434B5C;\n",
              "      --hover-fill-color: #FFFFFF;\n",
              "      --disabled-bg-color: #3B4455;\n",
              "      --disabled-fill-color: #666;\n",
              "  }\n",
              "\n",
              "  .colab-df-quickchart {\n",
              "    background-color: var(--bg-color);\n",
              "    border: none;\n",
              "    border-radius: 50%;\n",
              "    cursor: pointer;\n",
              "    display: none;\n",
              "    fill: var(--fill-color);\n",
              "    height: 32px;\n",
              "    padding: 0;\n",
              "    width: 32px;\n",
              "  }\n",
              "\n",
              "  .colab-df-quickchart:hover {\n",
              "    background-color: var(--hover-bg-color);\n",
              "    box-shadow: 0 1px 2px rgba(60, 64, 67, 0.3), 0 1px 3px 1px rgba(60, 64, 67, 0.15);\n",
              "    fill: var(--button-hover-fill-color);\n",
              "  }\n",
              "\n",
              "  .colab-df-quickchart-complete:disabled,\n",
              "  .colab-df-quickchart-complete:disabled:hover {\n",
              "    background-color: var(--disabled-bg-color);\n",
              "    fill: var(--disabled-fill-color);\n",
              "    box-shadow: none;\n",
              "  }\n",
              "\n",
              "  .colab-df-spinner {\n",
              "    border: 2px solid var(--fill-color);\n",
              "    border-color: transparent;\n",
              "    border-bottom-color: var(--fill-color);\n",
              "    animation:\n",
              "      spin 1s steps(1) infinite;\n",
              "  }\n",
              "\n",
              "  @keyframes spin {\n",
              "    0% {\n",
              "      border-color: transparent;\n",
              "      border-bottom-color: var(--fill-color);\n",
              "      border-left-color: var(--fill-color);\n",
              "    }\n",
              "    20% {\n",
              "      border-color: transparent;\n",
              "      border-left-color: var(--fill-color);\n",
              "      border-top-color: var(--fill-color);\n",
              "    }\n",
              "    30% {\n",
              "      border-color: transparent;\n",
              "      border-left-color: var(--fill-color);\n",
              "      border-top-color: var(--fill-color);\n",
              "      border-right-color: var(--fill-color);\n",
              "    }\n",
              "    40% {\n",
              "      border-color: transparent;\n",
              "      border-right-color: var(--fill-color);\n",
              "      border-top-color: var(--fill-color);\n",
              "    }\n",
              "    60% {\n",
              "      border-color: transparent;\n",
              "      border-right-color: var(--fill-color);\n",
              "    }\n",
              "    80% {\n",
              "      border-color: transparent;\n",
              "      border-right-color: var(--fill-color);\n",
              "      border-bottom-color: var(--fill-color);\n",
              "    }\n",
              "    90% {\n",
              "      border-color: transparent;\n",
              "      border-bottom-color: var(--fill-color);\n",
              "    }\n",
              "  }\n",
              "</style>\n",
              "\n",
              "  <script>\n",
              "    async function quickchart(key) {\n",
              "      const quickchartButtonEl =\n",
              "        document.querySelector('#' + key + ' button');\n",
              "      quickchartButtonEl.disabled = true;  // To prevent multiple clicks.\n",
              "      quickchartButtonEl.classList.add('colab-df-spinner');\n",
              "      try {\n",
              "        const charts = await google.colab.kernel.invokeFunction(\n",
              "            'suggestCharts', [key], {});\n",
              "      } catch (error) {\n",
              "        console.error('Error during call to suggestCharts:', error);\n",
              "      }\n",
              "      quickchartButtonEl.classList.remove('colab-df-spinner');\n",
              "      quickchartButtonEl.classList.add('colab-df-quickchart-complete');\n",
              "    }\n",
              "    (() => {\n",
              "      let quickchartButtonEl =\n",
              "        document.querySelector('#df-5d6addac-51ab-45dc-b34e-e0f8d49084d6 button');\n",
              "      quickchartButtonEl.style.display =\n",
              "        google.colab.kernel.accessAllowed ? 'block' : 'none';\n",
              "    })();\n",
              "  </script>\n",
              "</div>\n",
              "    </div>\n",
              "  </div>\n"
            ]
          },
          "metadata": {},
          "execution_count": 3
        }
      ]
    },
    {
      "cell_type": "code",
      "source": [
        "df.columns"
      ],
      "metadata": {
        "colab": {
          "base_uri": "https://localhost:8080/"
        },
        "id": "dh8eyK9Y1Ylj",
        "outputId": "abd4260f-14ee-4174-d88e-c490ed9adb05"
      },
      "execution_count": null,
      "outputs": [
        {
          "output_type": "execute_result",
          "data": {
            "text/plain": [
              "Index(['iso_code', 'continent', 'location', 'date', 'total_cases',\n",
              "       'reproduction_rate', 'new_vaccinations_smoothed_per_million',\n",
              "       'new_people_vaccinated_smoothed',\n",
              "       'new_people_vaccinated_smoothed_per_hundred', 'stringency_index',\n",
              "       'population_density', 'median_age', 'aged_65_older', 'aged_70_older',\n",
              "       'gdp_per_capita', 'extreme_poverty', 'cardiovasc_death_rate',\n",
              "       'diabetes_prevalence', 'female_smokers', 'male_smokers',\n",
              "       'handwashing_facilities', 'hospital_beds_per_thousand',\n",
              "       'life_expectancy', 'human_development_index', 'population',\n",
              "       'excess_mortality_cumulative_absolute', 'excess_mortality_cumulative',\n",
              "       'excess_mortality', 'excess_mortality_cumulative_per_million'],\n",
              "      dtype='object')"
            ]
          },
          "metadata": {},
          "execution_count": 4
        }
      ]
    },
    {
      "cell_type": "code",
      "source": [
        "df.info()"
      ],
      "metadata": {
        "colab": {
          "base_uri": "https://localhost:8080/"
        },
        "id": "9SI5txvvOc3U",
        "outputId": "5007359c-12c0-478d-fbaf-946b733038c4"
      },
      "execution_count": null,
      "outputs": [
        {
          "output_type": "stream",
          "name": "stdout",
          "text": [
            "<class 'pandas.core.frame.DataFrame'>\n",
            "RangeIndex: 5913 entries, 0 to 5912\n",
            "Data columns (total 29 columns):\n",
            " #   Column                                      Non-Null Count  Dtype  \n",
            "---  ------                                      --------------  -----  \n",
            " 0   iso_code                                    5913 non-null   object \n",
            " 1   continent                                   5913 non-null   object \n",
            " 2   location                                    5913 non-null   object \n",
            " 3   date                                        5913 non-null   object \n",
            " 4   total_cases                                 5904 non-null   float64\n",
            " 5   reproduction_rate                           3504 non-null   float64\n",
            " 6   new_vaccinations_smoothed_per_million       4048 non-null   float64\n",
            " 7   new_people_vaccinated_smoothed              4144 non-null   float64\n",
            " 8   new_people_vaccinated_smoothed_per_hundred  4144 non-null   float64\n",
            " 9   stringency_index                            3456 non-null   float64\n",
            " 10  population_density                          5913 non-null   object \n",
            " 11  median_age                                  5913 non-null   float64\n",
            " 12  aged_65_older                               5913 non-null   float64\n",
            " 13  aged_70_older                               5913 non-null   float64\n",
            " 14  gdp_per_capita                              5913 non-null   object \n",
            " 15  extreme_poverty                             3945 non-null   float64\n",
            " 16  cardiovasc_death_rate                       5913 non-null   float64\n",
            " 17  diabetes_prevalence                         5913 non-null   float64\n",
            " 18  female_smokers                              5667 non-null   float64\n",
            " 19  male_smokers                                5667 non-null   float64\n",
            " 20  handwashing_facilities                      1974 non-null   float64\n",
            " 21  hospital_beds_per_thousand                  5913 non-null   float64\n",
            " 22  life_expectancy                             5913 non-null   float64\n",
            " 23  human_development_index                     5913 non-null   float64\n",
            " 24  population                                  5913 non-null   int64  \n",
            " 25  excess_mortality_cumulative_absolute        83 non-null     object \n",
            " 26  excess_mortality_cumulative                 83 non-null     float64\n",
            " 27  excess_mortality                            83 non-null     float64\n",
            " 28  excess_mortality_cumulative_per_million     83 non-null     object \n",
            "dtypes: float64(20), int64(1), object(8)\n",
            "memory usage: 1.3+ MB\n"
          ]
        }
      ]
    },
    {
      "cell_type": "code",
      "source": [
        "df.nunique()"
      ],
      "metadata": {
        "id": "6xEUPMHdOoaC",
        "colab": {
          "base_uri": "https://localhost:8080/"
        },
        "outputId": "200c3e6d-5400-4386-916d-1c05d4099f72"
      },
      "execution_count": null,
      "outputs": [
        {
          "output_type": "execute_result",
          "data": {
            "text/plain": [
              "iso_code                                        24\n",
              "continent                                        1\n",
              "location                                        24\n",
              "date                                           252\n",
              "total_cases                                   4554\n",
              "reproduction_rate                              256\n",
              "new_vaccinations_smoothed_per_million         1868\n",
              "new_people_vaccinated_smoothed                2270\n",
              "new_people_vaccinated_smoothed_per_hundred     240\n",
              "stringency_index                               511\n",
              "population_density                              24\n",
              "median_age                                      21\n",
              "aged_65_older                                   24\n",
              "aged_70_older                                   24\n",
              "gdp_per_capita                                  24\n",
              "extreme_poverty                                 11\n",
              "cardiovasc_death_rate                           24\n",
              "diabetes_prevalence                             23\n",
              "female_smokers                                  18\n",
              "male_smokers                                    23\n",
              "handwashing_facilities                           8\n",
              "hospital_beds_per_thousand                      21\n",
              "life_expectancy                                 24\n",
              "human_development_index                         22\n",
              "population                                      24\n",
              "excess_mortality_cumulative_absolute            83\n",
              "excess_mortality_cumulative                     75\n",
              "excess_mortality                                83\n",
              "excess_mortality_cumulative_per_million         83\n",
              "dtype: int64"
            ]
          },
          "metadata": {},
          "execution_count": 6
        }
      ]
    },
    {
      "cell_type": "code",
      "source": [
        "round(df.isnull().sum()/df.shape[0]*100, 2)"
      ],
      "metadata": {
        "colab": {
          "base_uri": "https://localhost:8080/"
        },
        "id": "1apFoYZ6OhDH",
        "outputId": "c33980ef-a364-4bde-8817-0546c89f8f0a"
      },
      "execution_count": null,
      "outputs": [
        {
          "output_type": "execute_result",
          "data": {
            "text/plain": [
              "iso_code                                       0.00\n",
              "continent                                      0.00\n",
              "location                                       0.00\n",
              "date                                           0.00\n",
              "total_cases                                    0.15\n",
              "reproduction_rate                             40.74\n",
              "new_vaccinations_smoothed_per_million         31.54\n",
              "new_people_vaccinated_smoothed                29.92\n",
              "new_people_vaccinated_smoothed_per_hundred    29.92\n",
              "stringency_index                              41.55\n",
              "population_density                             0.00\n",
              "median_age                                     0.00\n",
              "aged_65_older                                  0.00\n",
              "aged_70_older                                  0.00\n",
              "gdp_per_capita                                 0.00\n",
              "extreme_poverty                               33.28\n",
              "cardiovasc_death_rate                          0.00\n",
              "diabetes_prevalence                            0.00\n",
              "female_smokers                                 4.16\n",
              "male_smokers                                   4.16\n",
              "handwashing_facilities                        66.62\n",
              "hospital_beds_per_thousand                     0.00\n",
              "life_expectancy                                0.00\n",
              "human_development_index                        0.00\n",
              "population                                     0.00\n",
              "excess_mortality_cumulative_absolute          98.60\n",
              "excess_mortality_cumulative                   98.60\n",
              "excess_mortality                              98.60\n",
              "excess_mortality_cumulative_per_million       98.60\n",
              "dtype: float64"
            ]
          },
          "metadata": {},
          "execution_count": 7
        }
      ]
    },
    {
      "cell_type": "code",
      "source": [
        "df = df.drop(['iso_code', 'continent', 'date','reproduction_rate','population_density','stringency_index','gdp_per_capita','extreme_poverty','handwashing_facilities','excess_mortality_cumulative_absolute', 'excess_mortality_cumulative','excess_mortality', 'excess_mortality_cumulative_per_million'],axis=1)"
      ],
      "metadata": {
        "id": "XNisGT_t16cD"
      },
      "execution_count": null,
      "outputs": []
    },
    {
      "cell_type": "code",
      "source": [
        "df=df.dropna(subset=['total_cases','female_smokers','male_smokers'])"
      ],
      "metadata": {
        "id": "_UNaZl63-q2B"
      },
      "execution_count": null,
      "outputs": []
    },
    {
      "cell_type": "code",
      "source": [
        "round(df.isnull().sum()/df.shape[0]*100, 2)"
      ],
      "metadata": {
        "colab": {
          "base_uri": "https://localhost:8080/"
        },
        "id": "0rx5vOgqBcsQ",
        "outputId": "36accd88-7f94-4f74-8cf4-38425d000757"
      },
      "execution_count": null,
      "outputs": [
        {
          "output_type": "execute_result",
          "data": {
            "text/plain": [
              "location                                       0.00\n",
              "total_cases                                    0.00\n",
              "new_vaccinations_smoothed_per_million         30.29\n",
              "new_people_vaccinated_smoothed                28.60\n",
              "new_people_vaccinated_smoothed_per_hundred    28.60\n",
              "median_age                                     0.00\n",
              "aged_65_older                                  0.00\n",
              "aged_70_older                                  0.00\n",
              "cardiovasc_death_rate                          0.00\n",
              "diabetes_prevalence                            0.00\n",
              "female_smokers                                 0.00\n",
              "male_smokers                                   0.00\n",
              "hospital_beds_per_thousand                     0.00\n",
              "life_expectancy                                0.00\n",
              "human_development_index                        0.00\n",
              "population                                     0.00\n",
              "dtype: float64"
            ]
          },
          "metadata": {},
          "execution_count": 10
        }
      ]
    },
    {
      "cell_type": "code",
      "source": [
        "df.nunique()"
      ],
      "metadata": {
        "colab": {
          "base_uri": "https://localhost:8080/"
        },
        "id": "nAQ431g9BqdS",
        "outputId": "652cde51-668d-4db9-c760-27f24074e3e8"
      },
      "execution_count": null,
      "outputs": [
        {
          "output_type": "execute_result",
          "data": {
            "text/plain": [
              "location                                        23\n",
              "total_cases                                   4509\n",
              "new_vaccinations_smoothed_per_million         1850\n",
              "new_people_vaccinated_smoothed                2225\n",
              "new_people_vaccinated_smoothed_per_hundred     240\n",
              "median_age                                      20\n",
              "aged_65_older                                   23\n",
              "aged_70_older                                   23\n",
              "cardiovasc_death_rate                           23\n",
              "diabetes_prevalence                             22\n",
              "female_smokers                                  18\n",
              "male_smokers                                    23\n",
              "hospital_beds_per_thousand                      20\n",
              "life_expectancy                                 23\n",
              "human_development_index                         21\n",
              "population                                      23\n",
              "dtype: int64"
            ]
          },
          "metadata": {},
          "execution_count": 11
        }
      ]
    },
    {
      "cell_type": "code",
      "source": [
        "print(\"Mean of new_vaccinations_smoothed_per_million\")\n",
        "mean_new_vaccinations_smoothed_per_million = df['new_vaccinations_smoothed_per_million'].mean()\n",
        "df['new_vaccinations_smoothed_per_million'] = df['new_vaccinations_smoothed_per_million'].fillna(mean_new_vaccinations_smoothed_per_million)\n",
        "mean_new_vaccinations_smoothed_per_million"
      ],
      "metadata": {
        "colab": {
          "base_uri": "https://localhost:8080/"
        },
        "id": "yvQ-E5D03obh",
        "outputId": "6174fd0e-0089-4799-bf14-a88b3a011f08"
      },
      "execution_count": null,
      "outputs": [
        {
          "output_type": "stream",
          "name": "stdout",
          "text": [
            "Mean of new_vaccinations_smoothed_per_million\n"
          ]
        },
        {
          "output_type": "stream",
          "name": "stderr",
          "text": [
            "<ipython-input-12-618512c720cf>:3: SettingWithCopyWarning: \n",
            "A value is trying to be set on a copy of a slice from a DataFrame.\n",
            "Try using .loc[row_indexer,col_indexer] = value instead\n",
            "\n",
            "See the caveats in the documentation: https://pandas.pydata.org/pandas-docs/stable/user_guide/indexing.html#returning-a-view-versus-a-copy\n",
            "  df['new_vaccinations_smoothed_per_million'] = df['new_vaccinations_smoothed_per_million'].fillna(mean_new_vaccinations_smoothed_per_million)\n"
          ]
        },
        {
          "output_type": "execute_result",
          "data": {
            "text/plain": [
              "1412.5565415821502"
            ]
          },
          "metadata": {},
          "execution_count": 12
        }
      ]
    },
    {
      "cell_type": "code",
      "source": [
        "print(\"Mean of new_people_vaccinated_smoothed\")\n",
        "mean_new_people_vaccinated_smoothed = df['new_people_vaccinated_smoothed'].mean()\n",
        "df['new_people_vaccinated_smoothed'] = df['new_people_vaccinated_smoothed'].fillna(mean_new_people_vaccinated_smoothed)\n",
        "mean_new_people_vaccinated_smoothed"
      ],
      "metadata": {
        "colab": {
          "base_uri": "https://localhost:8080/"
        },
        "id": "8WoNim773yzv",
        "outputId": "478aecd0-557d-444d-8b8d-aa795e3cc17b"
      },
      "execution_count": null,
      "outputs": [
        {
          "output_type": "stream",
          "name": "stdout",
          "text": [
            "Mean of new_people_vaccinated_smoothed\n"
          ]
        },
        {
          "output_type": "stream",
          "name": "stderr",
          "text": [
            "<ipython-input-13-dfdb53171dd8>:3: SettingWithCopyWarning: \n",
            "A value is trying to be set on a copy of a slice from a DataFrame.\n",
            "Try using .loc[row_indexer,col_indexer] = value instead\n",
            "\n",
            "See the caveats in the documentation: https://pandas.pydata.org/pandas-docs/stable/user_guide/indexing.html#returning-a-view-versus-a-copy\n",
            "  df['new_people_vaccinated_smoothed'] = df['new_people_vaccinated_smoothed'].fillna(mean_new_people_vaccinated_smoothed)\n"
          ]
        },
        {
          "output_type": "execute_result",
          "data": {
            "text/plain": [
              "48481.11039603961"
            ]
          },
          "metadata": {},
          "execution_count": 13
        }
      ]
    },
    {
      "cell_type": "code",
      "source": [
        "print(\"Mean of new_people_vaccinated_smoothed_per_hundred\")\n",
        "mean_new_people_vaccinated_smoothed_per_hundred = df['new_people_vaccinated_smoothed_per_hundred'].mean()\n",
        "df['new_people_vaccinated_smoothed_per_hundred'] = df['new_people_vaccinated_smoothed_per_hundred'].fillna(mean_new_people_vaccinated_smoothed_per_hundred)\n",
        "mean_new_people_vaccinated_smoothed_per_hundred"
      ],
      "metadata": {
        "colab": {
          "base_uri": "https://localhost:8080/"
        },
        "id": "A98kdw09ETfl",
        "outputId": "90da660e-26af-4d4d-8b3c-10bff5396556"
      },
      "execution_count": null,
      "outputs": [
        {
          "output_type": "stream",
          "name": "stdout",
          "text": [
            "Mean of new_people_vaccinated_smoothed_per_hundred\n"
          ]
        },
        {
          "output_type": "stream",
          "name": "stderr",
          "text": [
            "<ipython-input-14-636226c0cf23>:3: SettingWithCopyWarning: \n",
            "A value is trying to be set on a copy of a slice from a DataFrame.\n",
            "Try using .loc[row_indexer,col_indexer] = value instead\n",
            "\n",
            "See the caveats in the documentation: https://pandas.pydata.org/pandas-docs/stable/user_guide/indexing.html#returning-a-view-versus-a-copy\n",
            "  df['new_people_vaccinated_smoothed_per_hundred'] = df['new_people_vaccinated_smoothed_per_hundred'].fillna(mean_new_people_vaccinated_smoothed_per_hundred)\n"
          ]
        },
        {
          "output_type": "execute_result",
          "data": {
            "text/plain": [
              "0.025814603960396042"
            ]
          },
          "metadata": {},
          "execution_count": 14
        }
      ]
    },
    {
      "cell_type": "code",
      "source": [
        "df.head()"
      ],
      "metadata": {
        "colab": {
          "base_uri": "https://localhost:8080/",
          "height": 226
        },
        "id": "PQq6K6iS2UXS",
        "outputId": "473c2223-0e3e-4243-fa97-282834d73d42"
      },
      "execution_count": null,
      "outputs": [
        {
          "output_type": "execute_result",
          "data": {
            "text/plain": [
              "  location  total_cases  new_vaccinations_smoothed_per_million  \\\n",
              "0  Bahrain     282062.0                                 5477.0   \n",
              "1  Bahrain     282677.0                                 4833.0   \n",
              "2  Bahrain     283344.0                                 4571.0   \n",
              "3  Bahrain     284224.0                                 4276.0   \n",
              "4  Bahrain     285448.0                                 4094.0   \n",
              "\n",
              "   new_people_vaccinated_smoothed  new_people_vaccinated_smoothed_per_hundred  \\\n",
              "0                           540.0                                       0.037   \n",
              "1                           484.0                                       0.033   \n",
              "2                           471.0                                       0.032   \n",
              "3                           447.0                                       0.030   \n",
              "4                           439.0                                       0.030   \n",
              "\n",
              "   median_age  aged_65_older  aged_70_older  cardiovasc_death_rate  \\\n",
              "0        32.4          2.372          1.387                151.689   \n",
              "1        32.4          2.372          1.387                151.689   \n",
              "2        32.4          2.372          1.387                151.689   \n",
              "3        32.4          2.372          1.387                151.689   \n",
              "4        32.4          2.372          1.387                151.689   \n",
              "\n",
              "   diabetes_prevalence  female_smokers  male_smokers  \\\n",
              "0                16.52             5.8          37.6   \n",
              "1                16.52             5.8          37.6   \n",
              "2                16.52             5.8          37.6   \n",
              "3                16.52             5.8          37.6   \n",
              "4                16.52             5.8          37.6   \n",
              "\n",
              "   hospital_beds_per_thousand  life_expectancy  human_development_index  \\\n",
              "0                         2.0            77.29                    0.852   \n",
              "1                         2.0            77.29                    0.852   \n",
              "2                         2.0            77.29                    0.852   \n",
              "3                         2.0            77.29                    0.852   \n",
              "4                         2.0            77.29                    0.852   \n",
              "\n",
              "   population  \n",
              "0     1472237  \n",
              "1     1472237  \n",
              "2     1472237  \n",
              "3     1472237  \n",
              "4     1472237  "
            ],
            "text/html": [
              "\n",
              "  <div id=\"df-13ac5aab-7627-4b71-be15-a9351f8423f4\" class=\"colab-df-container\">\n",
              "    <div>\n",
              "<style scoped>\n",
              "    .dataframe tbody tr th:only-of-type {\n",
              "        vertical-align: middle;\n",
              "    }\n",
              "\n",
              "    .dataframe tbody tr th {\n",
              "        vertical-align: top;\n",
              "    }\n",
              "\n",
              "    .dataframe thead th {\n",
              "        text-align: right;\n",
              "    }\n",
              "</style>\n",
              "<table border=\"1\" class=\"dataframe\">\n",
              "  <thead>\n",
              "    <tr style=\"text-align: right;\">\n",
              "      <th></th>\n",
              "      <th>location</th>\n",
              "      <th>total_cases</th>\n",
              "      <th>new_vaccinations_smoothed_per_million</th>\n",
              "      <th>new_people_vaccinated_smoothed</th>\n",
              "      <th>new_people_vaccinated_smoothed_per_hundred</th>\n",
              "      <th>median_age</th>\n",
              "      <th>aged_65_older</th>\n",
              "      <th>aged_70_older</th>\n",
              "      <th>cardiovasc_death_rate</th>\n",
              "      <th>diabetes_prevalence</th>\n",
              "      <th>female_smokers</th>\n",
              "      <th>male_smokers</th>\n",
              "      <th>hospital_beds_per_thousand</th>\n",
              "      <th>life_expectancy</th>\n",
              "      <th>human_development_index</th>\n",
              "      <th>population</th>\n",
              "    </tr>\n",
              "  </thead>\n",
              "  <tbody>\n",
              "    <tr>\n",
              "      <th>0</th>\n",
              "      <td>Bahrain</td>\n",
              "      <td>282062.0</td>\n",
              "      <td>5477.0</td>\n",
              "      <td>540.0</td>\n",
              "      <td>0.037</td>\n",
              "      <td>32.4</td>\n",
              "      <td>2.372</td>\n",
              "      <td>1.387</td>\n",
              "      <td>151.689</td>\n",
              "      <td>16.52</td>\n",
              "      <td>5.8</td>\n",
              "      <td>37.6</td>\n",
              "      <td>2.0</td>\n",
              "      <td>77.29</td>\n",
              "      <td>0.852</td>\n",
              "      <td>1472237</td>\n",
              "    </tr>\n",
              "    <tr>\n",
              "      <th>1</th>\n",
              "      <td>Bahrain</td>\n",
              "      <td>282677.0</td>\n",
              "      <td>4833.0</td>\n",
              "      <td>484.0</td>\n",
              "      <td>0.033</td>\n",
              "      <td>32.4</td>\n",
              "      <td>2.372</td>\n",
              "      <td>1.387</td>\n",
              "      <td>151.689</td>\n",
              "      <td>16.52</td>\n",
              "      <td>5.8</td>\n",
              "      <td>37.6</td>\n",
              "      <td>2.0</td>\n",
              "      <td>77.29</td>\n",
              "      <td>0.852</td>\n",
              "      <td>1472237</td>\n",
              "    </tr>\n",
              "    <tr>\n",
              "      <th>2</th>\n",
              "      <td>Bahrain</td>\n",
              "      <td>283344.0</td>\n",
              "      <td>4571.0</td>\n",
              "      <td>471.0</td>\n",
              "      <td>0.032</td>\n",
              "      <td>32.4</td>\n",
              "      <td>2.372</td>\n",
              "      <td>1.387</td>\n",
              "      <td>151.689</td>\n",
              "      <td>16.52</td>\n",
              "      <td>5.8</td>\n",
              "      <td>37.6</td>\n",
              "      <td>2.0</td>\n",
              "      <td>77.29</td>\n",
              "      <td>0.852</td>\n",
              "      <td>1472237</td>\n",
              "    </tr>\n",
              "    <tr>\n",
              "      <th>3</th>\n",
              "      <td>Bahrain</td>\n",
              "      <td>284224.0</td>\n",
              "      <td>4276.0</td>\n",
              "      <td>447.0</td>\n",
              "      <td>0.030</td>\n",
              "      <td>32.4</td>\n",
              "      <td>2.372</td>\n",
              "      <td>1.387</td>\n",
              "      <td>151.689</td>\n",
              "      <td>16.52</td>\n",
              "      <td>5.8</td>\n",
              "      <td>37.6</td>\n",
              "      <td>2.0</td>\n",
              "      <td>77.29</td>\n",
              "      <td>0.852</td>\n",
              "      <td>1472237</td>\n",
              "    </tr>\n",
              "    <tr>\n",
              "      <th>4</th>\n",
              "      <td>Bahrain</td>\n",
              "      <td>285448.0</td>\n",
              "      <td>4094.0</td>\n",
              "      <td>439.0</td>\n",
              "      <td>0.030</td>\n",
              "      <td>32.4</td>\n",
              "      <td>2.372</td>\n",
              "      <td>1.387</td>\n",
              "      <td>151.689</td>\n",
              "      <td>16.52</td>\n",
              "      <td>5.8</td>\n",
              "      <td>37.6</td>\n",
              "      <td>2.0</td>\n",
              "      <td>77.29</td>\n",
              "      <td>0.852</td>\n",
              "      <td>1472237</td>\n",
              "    </tr>\n",
              "  </tbody>\n",
              "</table>\n",
              "</div>\n",
              "    <div class=\"colab-df-buttons\">\n",
              "\n",
              "  <div class=\"colab-df-container\">\n",
              "    <button class=\"colab-df-convert\" onclick=\"convertToInteractive('df-13ac5aab-7627-4b71-be15-a9351f8423f4')\"\n",
              "            title=\"Convert this dataframe to an interactive table.\"\n",
              "            style=\"display:none;\">\n",
              "\n",
              "  <svg xmlns=\"http://www.w3.org/2000/svg\" height=\"24px\" viewBox=\"0 -960 960 960\">\n",
              "    <path d=\"M120-120v-720h720v720H120Zm60-500h600v-160H180v160Zm220 220h160v-160H400v160Zm0 220h160v-160H400v160ZM180-400h160v-160H180v160Zm440 0h160v-160H620v160ZM180-180h160v-160H180v160Zm440 0h160v-160H620v160Z\"/>\n",
              "  </svg>\n",
              "    </button>\n",
              "\n",
              "  <style>\n",
              "    .colab-df-container {\n",
              "      display:flex;\n",
              "      gap: 12px;\n",
              "    }\n",
              "\n",
              "    .colab-df-convert {\n",
              "      background-color: #E8F0FE;\n",
              "      border: none;\n",
              "      border-radius: 50%;\n",
              "      cursor: pointer;\n",
              "      display: none;\n",
              "      fill: #1967D2;\n",
              "      height: 32px;\n",
              "      padding: 0 0 0 0;\n",
              "      width: 32px;\n",
              "    }\n",
              "\n",
              "    .colab-df-convert:hover {\n",
              "      background-color: #E2EBFA;\n",
              "      box-shadow: 0px 1px 2px rgba(60, 64, 67, 0.3), 0px 1px 3px 1px rgba(60, 64, 67, 0.15);\n",
              "      fill: #174EA6;\n",
              "    }\n",
              "\n",
              "    .colab-df-buttons div {\n",
              "      margin-bottom: 4px;\n",
              "    }\n",
              "\n",
              "    [theme=dark] .colab-df-convert {\n",
              "      background-color: #3B4455;\n",
              "      fill: #D2E3FC;\n",
              "    }\n",
              "\n",
              "    [theme=dark] .colab-df-convert:hover {\n",
              "      background-color: #434B5C;\n",
              "      box-shadow: 0px 1px 3px 1px rgba(0, 0, 0, 0.15);\n",
              "      filter: drop-shadow(0px 1px 2px rgba(0, 0, 0, 0.3));\n",
              "      fill: #FFFFFF;\n",
              "    }\n",
              "  </style>\n",
              "\n",
              "    <script>\n",
              "      const buttonEl =\n",
              "        document.querySelector('#df-13ac5aab-7627-4b71-be15-a9351f8423f4 button.colab-df-convert');\n",
              "      buttonEl.style.display =\n",
              "        google.colab.kernel.accessAllowed ? 'block' : 'none';\n",
              "\n",
              "      async function convertToInteractive(key) {\n",
              "        const element = document.querySelector('#df-13ac5aab-7627-4b71-be15-a9351f8423f4');\n",
              "        const dataTable =\n",
              "          await google.colab.kernel.invokeFunction('convertToInteractive',\n",
              "                                                    [key], {});\n",
              "        if (!dataTable) return;\n",
              "\n",
              "        const docLinkHtml = 'Like what you see? Visit the ' +\n",
              "          '<a target=\"_blank\" href=https://colab.research.google.com/notebooks/data_table.ipynb>data table notebook</a>'\n",
              "          + ' to learn more about interactive tables.';\n",
              "        element.innerHTML = '';\n",
              "        dataTable['output_type'] = 'display_data';\n",
              "        await google.colab.output.renderOutput(dataTable, element);\n",
              "        const docLink = document.createElement('div');\n",
              "        docLink.innerHTML = docLinkHtml;\n",
              "        element.appendChild(docLink);\n",
              "      }\n",
              "    </script>\n",
              "  </div>\n",
              "\n",
              "\n",
              "<div id=\"df-1bd73261-68db-4bd0-8457-99c5ca7999b9\">\n",
              "  <button class=\"colab-df-quickchart\" onclick=\"quickchart('df-1bd73261-68db-4bd0-8457-99c5ca7999b9')\"\n",
              "            title=\"Suggest charts.\"\n",
              "            style=\"display:none;\">\n",
              "\n",
              "<svg xmlns=\"http://www.w3.org/2000/svg\" height=\"24px\"viewBox=\"0 0 24 24\"\n",
              "     width=\"24px\">\n",
              "    <g>\n",
              "        <path d=\"M19 3H5c-1.1 0-2 .9-2 2v14c0 1.1.9 2 2 2h14c1.1 0 2-.9 2-2V5c0-1.1-.9-2-2-2zM9 17H7v-7h2v7zm4 0h-2V7h2v10zm4 0h-2v-4h2v4z\"/>\n",
              "    </g>\n",
              "</svg>\n",
              "  </button>\n",
              "\n",
              "<style>\n",
              "  .colab-df-quickchart {\n",
              "      --bg-color: #E8F0FE;\n",
              "      --fill-color: #1967D2;\n",
              "      --hover-bg-color: #E2EBFA;\n",
              "      --hover-fill-color: #174EA6;\n",
              "      --disabled-fill-color: #AAA;\n",
              "      --disabled-bg-color: #DDD;\n",
              "  }\n",
              "\n",
              "  [theme=dark] .colab-df-quickchart {\n",
              "      --bg-color: #3B4455;\n",
              "      --fill-color: #D2E3FC;\n",
              "      --hover-bg-color: #434B5C;\n",
              "      --hover-fill-color: #FFFFFF;\n",
              "      --disabled-bg-color: #3B4455;\n",
              "      --disabled-fill-color: #666;\n",
              "  }\n",
              "\n",
              "  .colab-df-quickchart {\n",
              "    background-color: var(--bg-color);\n",
              "    border: none;\n",
              "    border-radius: 50%;\n",
              "    cursor: pointer;\n",
              "    display: none;\n",
              "    fill: var(--fill-color);\n",
              "    height: 32px;\n",
              "    padding: 0;\n",
              "    width: 32px;\n",
              "  }\n",
              "\n",
              "  .colab-df-quickchart:hover {\n",
              "    background-color: var(--hover-bg-color);\n",
              "    box-shadow: 0 1px 2px rgba(60, 64, 67, 0.3), 0 1px 3px 1px rgba(60, 64, 67, 0.15);\n",
              "    fill: var(--button-hover-fill-color);\n",
              "  }\n",
              "\n",
              "  .colab-df-quickchart-complete:disabled,\n",
              "  .colab-df-quickchart-complete:disabled:hover {\n",
              "    background-color: var(--disabled-bg-color);\n",
              "    fill: var(--disabled-fill-color);\n",
              "    box-shadow: none;\n",
              "  }\n",
              "\n",
              "  .colab-df-spinner {\n",
              "    border: 2px solid var(--fill-color);\n",
              "    border-color: transparent;\n",
              "    border-bottom-color: var(--fill-color);\n",
              "    animation:\n",
              "      spin 1s steps(1) infinite;\n",
              "  }\n",
              "\n",
              "  @keyframes spin {\n",
              "    0% {\n",
              "      border-color: transparent;\n",
              "      border-bottom-color: var(--fill-color);\n",
              "      border-left-color: var(--fill-color);\n",
              "    }\n",
              "    20% {\n",
              "      border-color: transparent;\n",
              "      border-left-color: var(--fill-color);\n",
              "      border-top-color: var(--fill-color);\n",
              "    }\n",
              "    30% {\n",
              "      border-color: transparent;\n",
              "      border-left-color: var(--fill-color);\n",
              "      border-top-color: var(--fill-color);\n",
              "      border-right-color: var(--fill-color);\n",
              "    }\n",
              "    40% {\n",
              "      border-color: transparent;\n",
              "      border-right-color: var(--fill-color);\n",
              "      border-top-color: var(--fill-color);\n",
              "    }\n",
              "    60% {\n",
              "      border-color: transparent;\n",
              "      border-right-color: var(--fill-color);\n",
              "    }\n",
              "    80% {\n",
              "      border-color: transparent;\n",
              "      border-right-color: var(--fill-color);\n",
              "      border-bottom-color: var(--fill-color);\n",
              "    }\n",
              "    90% {\n",
              "      border-color: transparent;\n",
              "      border-bottom-color: var(--fill-color);\n",
              "    }\n",
              "  }\n",
              "</style>\n",
              "\n",
              "  <script>\n",
              "    async function quickchart(key) {\n",
              "      const quickchartButtonEl =\n",
              "        document.querySelector('#' + key + ' button');\n",
              "      quickchartButtonEl.disabled = true;  // To prevent multiple clicks.\n",
              "      quickchartButtonEl.classList.add('colab-df-spinner');\n",
              "      try {\n",
              "        const charts = await google.colab.kernel.invokeFunction(\n",
              "            'suggestCharts', [key], {});\n",
              "      } catch (error) {\n",
              "        console.error('Error during call to suggestCharts:', error);\n",
              "      }\n",
              "      quickchartButtonEl.classList.remove('colab-df-spinner');\n",
              "      quickchartButtonEl.classList.add('colab-df-quickchart-complete');\n",
              "    }\n",
              "    (() => {\n",
              "      let quickchartButtonEl =\n",
              "        document.querySelector('#df-1bd73261-68db-4bd0-8457-99c5ca7999b9 button');\n",
              "      quickchartButtonEl.style.display =\n",
              "        google.colab.kernel.accessAllowed ? 'block' : 'none';\n",
              "    })();\n",
              "  </script>\n",
              "</div>\n",
              "    </div>\n",
              "  </div>\n"
            ]
          },
          "metadata": {},
          "execution_count": 15
        }
      ]
    },
    {
      "cell_type": "code",
      "source": [
        "round(df.isnull().sum()/df.shape[0]*100, 2)"
      ],
      "metadata": {
        "colab": {
          "base_uri": "https://localhost:8080/"
        },
        "id": "3icCWQp6EQgs",
        "outputId": "74f99c87-5d97-458c-d418-127af62abc1f"
      },
      "execution_count": null,
      "outputs": [
        {
          "output_type": "execute_result",
          "data": {
            "text/plain": [
              "location                                      0.0\n",
              "total_cases                                   0.0\n",
              "new_vaccinations_smoothed_per_million         0.0\n",
              "new_people_vaccinated_smoothed                0.0\n",
              "new_people_vaccinated_smoothed_per_hundred    0.0\n",
              "median_age                                    0.0\n",
              "aged_65_older                                 0.0\n",
              "aged_70_older                                 0.0\n",
              "cardiovasc_death_rate                         0.0\n",
              "diabetes_prevalence                           0.0\n",
              "female_smokers                                0.0\n",
              "male_smokers                                  0.0\n",
              "hospital_beds_per_thousand                    0.0\n",
              "life_expectancy                               0.0\n",
              "human_development_index                       0.0\n",
              "population                                    0.0\n",
              "dtype: float64"
            ]
          },
          "metadata": {},
          "execution_count": 16
        }
      ]
    },
    {
      "cell_type": "code",
      "source": [
        "df.info()"
      ],
      "metadata": {
        "colab": {
          "base_uri": "https://localhost:8080/"
        },
        "id": "VpiqTf7CyUL7",
        "outputId": "c93b2de5-6c36-49cf-ffbe-dbdd71cd4877"
      },
      "execution_count": null,
      "outputs": [
        {
          "output_type": "stream",
          "name": "stdout",
          "text": [
            "<class 'pandas.core.frame.DataFrame'>\n",
            "Int64Index: 5658 entries, 0 to 5912\n",
            "Data columns (total 16 columns):\n",
            " #   Column                                      Non-Null Count  Dtype  \n",
            "---  ------                                      --------------  -----  \n",
            " 0   location                                    5658 non-null   object \n",
            " 1   total_cases                                 5658 non-null   float64\n",
            " 2   new_vaccinations_smoothed_per_million       5658 non-null   float64\n",
            " 3   new_people_vaccinated_smoothed              5658 non-null   float64\n",
            " 4   new_people_vaccinated_smoothed_per_hundred  5658 non-null   float64\n",
            " 5   median_age                                  5658 non-null   float64\n",
            " 6   aged_65_older                               5658 non-null   float64\n",
            " 7   aged_70_older                               5658 non-null   float64\n",
            " 8   cardiovasc_death_rate                       5658 non-null   float64\n",
            " 9   diabetes_prevalence                         5658 non-null   float64\n",
            " 10  female_smokers                              5658 non-null   float64\n",
            " 11  male_smokers                                5658 non-null   float64\n",
            " 12  hospital_beds_per_thousand                  5658 non-null   float64\n",
            " 13  life_expectancy                             5658 non-null   float64\n",
            " 14  human_development_index                     5658 non-null   float64\n",
            " 15  population                                  5658 non-null   int64  \n",
            "dtypes: float64(14), int64(1), object(1)\n",
            "memory usage: 751.5+ KB\n"
          ]
        }
      ]
    },
    {
      "cell_type": "markdown",
      "source": [
        "# **EXPLORATORY DATA**"
      ],
      "metadata": {
        "id": "eX9crXfEKZYk"
      }
    },
    {
      "cell_type": "code",
      "source": [
        "#Menghitung korelasi antar variabel\n",
        "\n",
        "corr_df = df.corr()\n",
        "plt.figure(figsize=(10,6))\n",
        "sns.set_style('ticks')\n",
        "\n",
        "sns.heatmap(corr_df,annot=True)\n",
        "plt.show()"
      ],
      "metadata": {
        "colab": {
          "base_uri": "https://localhost:8080/",
          "height": 823
        },
        "id": "-iPFk5o54eUv",
        "outputId": "5464746d-0419-460b-ad46-3592a6c216fb"
      },
      "execution_count": null,
      "outputs": [
        {
          "output_type": "stream",
          "name": "stderr",
          "text": [
            "<ipython-input-18-627fac266514>:3: FutureWarning: The default value of numeric_only in DataFrame.corr is deprecated. In a future version, it will default to False. Select only valid columns or specify the value of numeric_only to silence this warning.\n",
            "  corr_df = df.corr()\n"
          ]
        },
        {
          "output_type": "display_data",
          "data": {
            "text/plain": [
              "<Figure size 1000x600 with 2 Axes>"
            ],
            "image/png": "[encoded data removed]"
          },
          "metadata": {}
        }
      ]
    },
    {
      "cell_type": "code",
      "source": [
        "#Mendeteksi distribusi data (normal atau tidak)\n",
        "plt.figure(figsize=(10,8))\n",
        "plt.tight_layout()\n",
        "sns.distplot(df['total_cases'])"
      ],
      "metadata": {
        "colab": {
          "base_uri": "https://localhost:8080/",
          "height": 919
        },
        "id": "MscBxf-KHJMK",
        "outputId": "85425670-edc2-4c09-9e96-ce95a25ab1d9"
      },
      "execution_count": null,
      "outputs": [
        {
          "output_type": "stream",
          "name": "stderr",
          "text": [
            "<ipython-input-19-c2648e9ca2ca>:4: UserWarning: \n",
            "\n",
            "`distplot` is a deprecated function and will be removed in seaborn v0.14.0.\n",
            "\n",
            "Please adapt your code to use either `displot` (a figure-level function with\n",
            "similar flexibility) or `histplot` (an axes-level function for histograms).\n",
            "\n",
            "For a guide to updating your code to use the new functions, please see\n",
            "https://gist.github.com/mwaskom/de44147ed2974457ad6372750bbe5751\n",
            "\n",
            "  sns.distplot(df['total_cases'])\n"
          ]
        },
        {
          "output_type": "execute_result",
          "data": {
            "text/plain": [
              "<Axes: xlabel='total_cases', ylabel='Density'>"
            ]
          },
          "metadata": {},
          "execution_count": 19
        },
        {
          "output_type": "display_data",
          "data": {
            "text/plain": [
              "<Figure size 1000x800 with 1 Axes>"
            ],
            "image/png": "[encoded data removed]"
          },
          "metadata": {}
        }
      ]
    },
    {
      "cell_type": "code",
      "source": [
        "def find_outlier(yourlist):\n",
        "    outlier = ''\n",
        "    for i in range(len(yourlist)):\n",
        "        if yourlist[i] > batas_atas:\n",
        "            outlier += str(yourlist[i]) + ', '\n",
        "        if yourlist[i] < batas_bawah:\n",
        "            outlier += str(yourlist[i]) + ', '\n",
        "    return outlier"
      ],
      "metadata": {
        "id": "ANiSFcMvz_JA"
      },
      "execution_count": null,
      "outputs": []
    },
    {
      "cell_type": "code",
      "source": [
        "#scalling\n",
        "for i in df.columns.drop(['location']):\n",
        "    df['{} Standard scl'.format(i)] = StandardScaler().fit_transform(df[[i]])"
      ],
      "metadata": {
        "id": "PhEFJdQR0Ikr"
      },
      "execution_count": null,
      "outputs": []
    },
    {
      "cell_type": "markdown",
      "source": [
        "# **MULTIPLE LINEAR REGRESSION**"
      ],
      "metadata": {
        "id": "TYEe8A4Z4lDZ"
      }
    },
    {
      "cell_type": "code",
      "source": [
        "#Menentukan nilai X dan Y\n",
        "X = df[['new_vaccinations_smoothed_per_million','new_people_vaccinated_smoothed','new_people_vaccinated_smoothed_per_hundred', 'median_age', 'aged_65_older', 'aged_70_older', 'cardiovasc_death_rate','diabetes_prevalence', 'female_smokers', 'male_smokers', 'hospital_beds_per_thousand','life_expectancy', 'human_development_index', 'population']].values\n",
        "y = df[['total_cases']].values"
      ],
      "metadata": {
        "id": "VlitjXENH6hu"
      },
      "execution_count": null,
      "outputs": []
    },
    {
      "cell_type": "code",
      "source": [
        "#Menentukan nilai x dan y baru untuk data training dan data testing\n",
        "X_train, X_test, y_train, y_test = train_test_split(X, y, test_size=0.2, random_state=0)"
      ],
      "metadata": {
        "id": "mwvV2VQSIKjr"
      },
      "execution_count": null,
      "outputs": []
    },
    {
      "cell_type": "code",
      "source": [
        "#Training Model\n",
        "regressor = LinearRegression()\n",
        "regressor.fit(X_train, y_train)"
      ],
      "metadata": {
        "colab": {
          "base_uri": "https://localhost:8080/",
          "height": 75
        },
        "id": "PDG4wilmx-q0",
        "outputId": "34b307a1-bb67-47a1-dc05-28a44216426c"
      },
      "execution_count": null,
      "outputs": [
        {
          "output_type": "execute_result",
          "data": {
            "text/plain": [
              "LinearRegression()"
            ],
            "text/html": [
              "<style>#sk-container-id-1 {color: black;background-color: white;}#sk-container-id-1 pre{padding: 0;}#sk-container-id-1 div.sk-toggleable {background-color: white;}#sk-container-id-1 label.sk-toggleable__label {cursor: pointer;display: block;width: 100%;margin-bottom: 0;padding: 0.3em;box-sizing: border-box;text-align: center;}#sk-container-id-1 label.sk-toggleable__label-arrow:before {content: \"▸\";float: left;margin-right: 0.25em;color: #696969;}#sk-container-id-1 label.sk-toggleable__label-arrow:hover:before {color: black;}#sk-container-id-1 div.sk-estimator:hover label.sk-toggleable__label-arrow:before {color: black;}#sk-container-id-1 div.sk-toggleable__content {max-height: 0;max-width: 0;overflow: hidden;text-align: left;background-color: #f0f8ff;}#sk-container-id-1 div.sk-toggleable__content pre {margin: 0.2em;color: black;border-radius: 0.25em;background-color: #f0f8ff;}#sk-container-id-1 input.sk-toggleable__control:checked~div.sk-toggleable__content {max-height: 200px;max-width: 100%;overflow: auto;}#sk-container-id-1 input.sk-toggleable__control:checked~label.sk-toggleable__label-arrow:before {content: \"▾\";}#sk-container-id-1 div.sk-estimator input.sk-toggleable__control:checked~label.sk-toggleable__label {background-color: #d4ebff;}#sk-container-id-1 div.sk-label input.sk-toggleable__control:checked~label.sk-toggleable__label {background-color: #d4ebff;}#sk-container-id-1 input.sk-hidden--visually {border: 0;clip: rect(1px 1px 1px 1px);clip: rect(1px, 1px, 1px, 1px);height: 1px;margin: -1px;overflow: hidden;padding: 0;position: absolute;width: 1px;}#sk-container-id-1 div.sk-estimator {font-family: monospace;background-color: #f0f8ff;border: 1px dotted black;border-radius: 0.25em;box-sizing: border-box;margin-bottom: 0.5em;}#sk-container-id-1 div.sk-estimator:hover {background-color: #d4ebff;}#sk-container-id-1 div.sk-parallel-item::after {content: \"\";width: 100%;border-bottom: 1px solid gray;flex-grow: 1;}#sk-container-id-1 div.sk-label:hover label.sk-toggleable__label {background-color: #d4ebff;}#sk-container-id-1 div.sk-serial::before {content: \"\";position: absolute;border-left: 1px solid gray;box-sizing: border-box;top: 0;bottom: 0;left: 50%;z-index: 0;}#sk-container-id-1 div.sk-serial {display: flex;flex-direction: column;align-items: center;background-color: white;padding-right: 0.2em;padding-left: 0.2em;position: relative;}#sk-container-id-1 div.sk-item {position: relative;z-index: 1;}#sk-container-id-1 div.sk-parallel {display: flex;align-items: stretch;justify-content: center;background-color: white;position: relative;}#sk-container-id-1 div.sk-item::before, #sk-container-id-1 div.sk-parallel-item::before {content: \"\";position: absolute;border-left: 1px solid gray;box-sizing: border-box;top: 0;bottom: 0;left: 50%;z-index: -1;}#sk-container-id-1 div.sk-parallel-item {display: flex;flex-direction: column;z-index: 1;position: relative;background-color: white;}#sk-container-id-1 div.sk-parallel-item:first-child::after {align-self: flex-end;width: 50%;}#sk-container-id-1 div.sk-parallel-item:last-child::after {align-self: flex-start;width: 50%;}#sk-container-id-1 div.sk-parallel-item:only-child::after {width: 0;}#sk-container-id-1 div.sk-dashed-wrapped {border: 1px dashed gray;margin: 0 0.4em 0.5em 0.4em;box-sizing: border-box;padding-bottom: 0.4em;background-color: white;}#sk-container-id-1 div.sk-label label {font-family: monospace;font-weight: bold;display: inline-block;line-height: 1.2em;}#sk-container-id-1 div.sk-label-container {text-align: center;}#sk-container-id-1 div.sk-container {/* jupyter's `normalize.less` sets `[hidden] { display: none; }` but bootstrap.min.css set `[hidden] { display: none !important; }` so we also need the `!important` here to be able to override the default hidden behavior on the sphinx rendered scikit-learn.org. See: https://github.com/scikit-learn/scikit-learn/issues/21755 */display: inline-block !important;position: relative;}#sk-container-id-1 div.sk-text-repr-fallback {display: none;}</style><div id=\"sk-container-id-1\" class=\"sk-top-container\"><div class=\"sk-text-repr-fallback\"><pre>LinearRegression()</pre><b>In a Jupyter environment, please rerun this cell to show the HTML representation or trust the notebook. <br />On GitHub, the HTML representation is unable to render, please try loading this page with nbviewer.org.</b></div><div class=\"sk-container\" hidden><div class=\"sk-item\"><div class=\"sk-estimator sk-toggleable\"><input class=\"sk-toggleable__control sk-hidden--visually\" id=\"sk-estimator-id-1\" type=\"checkbox\" checked><label for=\"sk-estimator-id-1\" class=\"sk-toggleable__label sk-toggleable__label-arrow\">LinearRegression</label><div class=\"sk-toggleable__content\"><pre>LinearRegression()</pre></div></div></div></div></div>"
            ]
          },
          "metadata": {},
          "execution_count": 24
        }
      ]
    },
    {
      "cell_type": "code",
      "source": [
        "#Nilai koefisien regresi slope (beta 1, 2, dst)\n",
        "regressor.coef_[0]"
      ],
      "metadata": {
        "colab": {
          "base_uri": "https://localhost:8080/"
        },
        "id": "FxZxrw7P26FV",
        "outputId": "36bf4424-9680-4eef-b17d-f382abc3a36d"
      },
      "execution_count": null,
      "outputs": [
        {
          "output_type": "execute_result",
          "data": {
            "text/plain": [
              "array([-1.08417411e+03, -4.29276081e+00,  2.68556916e+07, -2.08135549e+03,\n",
              "       -2.02521986e+06,  2.66766761e+06, -1.84980718e+04, -3.45288170e+05,\n",
              "        3.18964996e+04, -3.24234497e+04,  1.42213569e+06, -1.91819183e+05,\n",
              "        1.31817137e+07,  3.01706770e-02])"
            ]
          },
          "metadata": {},
          "execution_count": 25
        }
      ]
    },
    {
      "cell_type": "code",
      "source": [
        "#Dataframe koefisien regresi\n",
        "X_columns = df[['new_vaccinations_smoothed_per_million','new_people_vaccinated_smoothed','new_people_vaccinated_smoothed_per_hundred', 'median_age', 'aged_65_older', 'aged_70_older', 'cardiovasc_death_rate','diabetes_prevalence', 'female_smokers', 'male_smokers', 'hospital_beds_per_thousand','life_expectancy', 'human_development_index', 'population']].columns\n",
        "\n",
        "coeff_df = pd.DataFrame(regressor.coef_[0], X_columns, columns=['Coefficient/Slope'])\n",
        "coeff_df"
      ],
      "metadata": {
        "colab": {
          "base_uri": "https://localhost:8080/",
          "height": 488
        },
        "id": "dnWkPlUZ2_-h",
        "outputId": "f964bfdd-9ed2-4b09-c8a7-64a962dd3698"
      },
      "execution_count": null,
      "outputs": [
        {
          "output_type": "execute_result",
          "data": {
            "text/plain": [
              "                                            Coefficient/Slope\n",
              "new_vaccinations_smoothed_per_million           -1.084174e+03\n",
              "new_people_vaccinated_smoothed                  -4.292761e+00\n",
              "new_people_vaccinated_smoothed_per_hundred       2.685569e+07\n",
              "median_age                                      -2.081355e+03\n",
              "aged_65_older                                   -2.025220e+06\n",
              "aged_70_older                                    2.667668e+06\n",
              "cardiovasc_death_rate                           -1.849807e+04\n",
              "diabetes_prevalence                             -3.452882e+05\n",
              "female_smokers                                   3.189650e+04\n",
              "male_smokers                                    -3.242345e+04\n",
              "hospital_beds_per_thousand                       1.422136e+06\n",
              "life_expectancy                                 -1.918192e+05\n",
              "human_development_index                          1.318171e+07\n",
              "population                                       3.017068e-02"
            ],
            "text/html": [
              "\n",
              "  <div id=\"df-99772eb6-97d1-48f9-9712-c9fca8a2b152\" class=\"colab-df-container\">\n",
              "    <div>\n",
              "<style scoped>\n",
              "    .dataframe tbody tr th:only-of-type {\n",
              "        vertical-align: middle;\n",
              "    }\n",
              "\n",
              "    .dataframe tbody tr th {\n",
              "        vertical-align: top;\n",
              "    }\n",
              "\n",
              "    .dataframe thead th {\n",
              "        text-align: right;\n",
              "    }\n",
              "</style>\n",
              "<table border=\"1\" class=\"dataframe\">\n",
              "  <thead>\n",
              "    <tr style=\"text-align: right;\">\n",
              "      <th></th>\n",
              "      <th>Coefficient/Slope</th>\n",
              "    </tr>\n",
              "  </thead>\n",
              "  <tbody>\n",
              "    <tr>\n",
              "      <th>new_vaccinations_smoothed_per_million</th>\n",
              "      <td>-1.084174e+03</td>\n",
              "    </tr>\n",
              "    <tr>\n",
              "      <th>new_people_vaccinated_smoothed</th>\n",
              "      <td>-4.292761e+00</td>\n",
              "    </tr>\n",
              "    <tr>\n",
              "      <th>new_people_vaccinated_smoothed_per_hundred</th>\n",
              "      <td>2.685569e+07</td>\n",
              "    </tr>\n",
              "    <tr>\n",
              "      <th>median_age</th>\n",
              "      <td>-2.081355e+03</td>\n",
              "    </tr>\n",
              "    <tr>\n",
              "      <th>aged_65_older</th>\n",
              "      <td>-2.025220e+06</td>\n",
              "    </tr>\n",
              "    <tr>\n",
              "      <th>aged_70_older</th>\n",
              "      <td>2.667668e+06</td>\n",
              "    </tr>\n",
              "    <tr>\n",
              "      <th>cardiovasc_death_rate</th>\n",
              "      <td>-1.849807e+04</td>\n",
              "    </tr>\n",
              "    <tr>\n",
              "      <th>diabetes_prevalence</th>\n",
              "      <td>-3.452882e+05</td>\n",
              "    </tr>\n",
              "    <tr>\n",
              "      <th>female_smokers</th>\n",
              "      <td>3.189650e+04</td>\n",
              "    </tr>\n",
              "    <tr>\n",
              "      <th>male_smokers</th>\n",
              "      <td>-3.242345e+04</td>\n",
              "    </tr>\n",
              "    <tr>\n",
              "      <th>hospital_beds_per_thousand</th>\n",
              "      <td>1.422136e+06</td>\n",
              "    </tr>\n",
              "    <tr>\n",
              "      <th>life_expectancy</th>\n",
              "      <td>-1.918192e+05</td>\n",
              "    </tr>\n",
              "    <tr>\n",
              "      <th>human_development_index</th>\n",
              "      <td>1.318171e+07</td>\n",
              "    </tr>\n",
              "    <tr>\n",
              "      <th>population</th>\n",
              "      <td>3.017068e-02</td>\n",
              "    </tr>\n",
              "  </tbody>\n",
              "</table>\n",
              "</div>\n",
              "    <div class=\"colab-df-buttons\">\n",
              "\n",
              "  <div class=\"colab-df-container\">\n",
              "    <button class=\"colab-df-convert\" onclick=\"convertToInteractive('df-99772eb6-97d1-48f9-9712-c9fca8a2b152')\"\n",
              "            title=\"Convert this dataframe to an interactive table.\"\n",
              "            style=\"display:none;\">\n",
              "\n",
              "  <svg xmlns=\"http://www.w3.org/2000/svg\" height=\"24px\" viewBox=\"0 -960 960 960\">\n",
              "    <path d=\"M120-120v-720h720v720H120Zm60-500h600v-160H180v160Zm220 220h160v-160H400v160Zm0 220h160v-160H400v160ZM180-400h160v-160H180v160Zm440 0h160v-160H620v160ZM180-180h160v-160H180v160Zm440 0h160v-160H620v160Z\"/>\n",
              "  </svg>\n",
              "    </button>\n",
              "\n",
              "  <style>\n",
              "    .colab-df-container {\n",
              "      display:flex;\n",
              "      gap: 12px;\n",
              "    }\n",
              "\n",
              "    .colab-df-convert {\n",
              "      background-color: #E8F0FE;\n",
              "      border: none;\n",
              "      border-radius: 50%;\n",
              "      cursor: pointer;\n",
              "      display: none;\n",
              "      fill: #1967D2;\n",
              "      height: 32px;\n",
              "      padding: 0 0 0 0;\n",
              "      width: 32px;\n",
              "    }\n",
              "\n",
              "    .colab-df-convert:hover {\n",
              "      background-color: #E2EBFA;\n",
              "      box-shadow: 0px 1px 2px rgba(60, 64, 67, 0.3), 0px 1px 3px 1px rgba(60, 64, 67, 0.15);\n",
              "      fill: #174EA6;\n",
              "    }\n",
              "\n",
              "    .colab-df-buttons div {\n",
              "      margin-bottom: 4px;\n",
              "    }\n",
              "\n",
              "    [theme=dark] .colab-df-convert {\n",
              "      background-color: #3B4455;\n",
              "      fill: #D2E3FC;\n",
              "    }\n",
              "\n",
              "    [theme=dark] .colab-df-convert:hover {\n",
              "      background-color: #434B5C;\n",
              "      box-shadow: 0px 1px 3px 1px rgba(0, 0, 0, 0.15);\n",
              "      filter: drop-shadow(0px 1px 2px rgba(0, 0, 0, 0.3));\n",
              "      fill: #FFFFFF;\n",
              "    }\n",
              "  </style>\n",
              "\n",
              "    <script>\n",
              "      const buttonEl =\n",
              "        document.querySelector('#df-99772eb6-97d1-48f9-9712-c9fca8a2b152 button.colab-df-convert');\n",
              "      buttonEl.style.display =\n",
              "        google.colab.kernel.accessAllowed ? 'block' : 'none';\n",
              "\n",
              "      async function convertToInteractive(key) {\n",
              "        const element = document.querySelector('#df-99772eb6-97d1-48f9-9712-c9fca8a2b152');\n",
              "        const dataTable =\n",
              "          await google.colab.kernel.invokeFunction('convertToInteractive',\n",
              "                                                    [key], {});\n",
              "        if (!dataTable) return;\n",
              "\n",
              "        const docLinkHtml = 'Like what you see? Visit the ' +\n",
              "          '<a target=\"_blank\" href=https://colab.research.google.com/notebooks/data_table.ipynb>data table notebook</a>'\n",
              "          + ' to learn more about interactive tables.';\n",
              "        element.innerHTML = '';\n",
              "        dataTable['output_type'] = 'display_data';\n",
              "        await google.colab.output.renderOutput(dataTable, element);\n",
              "        const docLink = document.createElement('div');\n",
              "        docLink.innerHTML = docLinkHtml;\n",
              "        element.appendChild(docLink);\n",
              "      }\n",
              "    </script>\n",
              "  </div>\n",
              "\n",
              "\n",
              "<div id=\"df-b9c18f48-b0f4-4db1-9b34-223fce78834e\">\n",
              "  <button class=\"colab-df-quickchart\" onclick=\"quickchart('df-b9c18f48-b0f4-4db1-9b34-223fce78834e')\"\n",
              "            title=\"Suggest charts.\"\n",
              "            style=\"display:none;\">\n",
              "\n",
              "<svg xmlns=\"http://www.w3.org/2000/svg\" height=\"24px\"viewBox=\"0 0 24 24\"\n",
              "     width=\"24px\">\n",
              "    <g>\n",
              "        <path d=\"M19 3H5c-1.1 0-2 .9-2 2v14c0 1.1.9 2 2 2h14c1.1 0 2-.9 2-2V5c0-1.1-.9-2-2-2zM9 17H7v-7h2v7zm4 0h-2V7h2v10zm4 0h-2v-4h2v4z\"/>\n",
              "    </g>\n",
              "</svg>\n",
              "  </button>\n",
              "\n",
              "<style>\n",
              "  .colab-df-quickchart {\n",
              "      --bg-color: #E8F0FE;\n",
              "      --fill-color: #1967D2;\n",
              "      --hover-bg-color: #E2EBFA;\n",
              "      --hover-fill-color: #174EA6;\n",
              "      --disabled-fill-color: #AAA;\n",
              "      --disabled-bg-color: #DDD;\n",
              "  }\n",
              "\n",
              "  [theme=dark] .colab-df-quickchart {\n",
              "      --bg-color: #3B4455;\n",
              "      --fill-color: #D2E3FC;\n",
              "      --hover-bg-color: #434B5C;\n",
              "      --hover-fill-color: #FFFFFF;\n",
              "      --disabled-bg-color: #3B4455;\n",
              "      --disabled-fill-color: #666;\n",
              "  }\n",
              "\n",
              "  .colab-df-quickchart {\n",
              "    background-color: var(--bg-color);\n",
              "    border: none;\n",
              "    border-radius: 50%;\n",
              "    cursor: pointer;\n",
              "    display: none;\n",
              "    fill: var(--fill-color);\n",
              "    height: 32px;\n",
              "    padding: 0;\n",
              "    width: 32px;\n",
              "  }\n",
              "\n",
              "  .colab-df-quickchart:hover {\n",
              "    background-color: var(--hover-bg-color);\n",
              "    box-shadow: 0 1px 2px rgba(60, 64, 67, 0.3), 0 1px 3px 1px rgba(60, 64, 67, 0.15);\n",
              "    fill: var(--button-hover-fill-color);\n",
              "  }\n",
              "\n",
              "  .colab-df-quickchart-complete:disabled,\n",
              "  .colab-df-quickchart-complete:disabled:hover {\n",
              "    background-color: var(--disabled-bg-color);\n",
              "    fill: var(--disabled-fill-color);\n",
              "    box-shadow: none;\n",
              "  }\n",
              "\n",
              "  .colab-df-spinner {\n",
              "    border: 2px solid var(--fill-color);\n",
              "    border-color: transparent;\n",
              "    border-bottom-color: var(--fill-color);\n",
              "    animation:\n",
              "      spin 1s steps(1) infinite;\n",
              "  }\n",
              "\n",
              "  @keyframes spin {\n",
              "    0% {\n",
              "      border-color: transparent;\n",
              "      border-bottom-color: var(--fill-color);\n",
              "      border-left-color: var(--fill-color);\n",
              "    }\n",
              "    20% {\n",
              "      border-color: transparent;\n",
              "      border-left-color: var(--fill-color);\n",
              "      border-top-color: var(--fill-color);\n",
              "    }\n",
              "    30% {\n",
              "      border-color: transparent;\n",
              "      border-left-color: var(--fill-color);\n",
              "      border-top-color: var(--fill-color);\n",
              "      border-right-color: var(--fill-color);\n",
              "    }\n",
              "    40% {\n",
              "      border-color: transparent;\n",
              "      border-right-color: var(--fill-color);\n",
              "      border-top-color: var(--fill-color);\n",
              "    }\n",
              "    60% {\n",
              "      border-color: transparent;\n",
              "      border-right-color: var(--fill-color);\n",
              "    }\n",
              "    80% {\n",
              "      border-color: transparent;\n",
              "      border-right-color: var(--fill-color);\n",
              "      border-bottom-color: var(--fill-color);\n",
              "    }\n",
              "    90% {\n",
              "      border-color: transparent;\n",
              "      border-bottom-color: var(--fill-color);\n",
              "    }\n",
              "  }\n",
              "</style>\n",
              "\n",
              "  <script>\n",
              "    async function quickchart(key) {\n",
              "      const quickchartButtonEl =\n",
              "        document.querySelector('#' + key + ' button');\n",
              "      quickchartButtonEl.disabled = true;  // To prevent multiple clicks.\n",
              "      quickchartButtonEl.classList.add('colab-df-spinner');\n",
              "      try {\n",
              "        const charts = await google.colab.kernel.invokeFunction(\n",
              "            'suggestCharts', [key], {});\n",
              "      } catch (error) {\n",
              "        console.error('Error during call to suggestCharts:', error);\n",
              "      }\n",
              "      quickchartButtonEl.classList.remove('colab-df-spinner');\n",
              "      quickchartButtonEl.classList.add('colab-df-quickchart-complete');\n",
              "    }\n",
              "    (() => {\n",
              "      let quickchartButtonEl =\n",
              "        document.querySelector('#df-b9c18f48-b0f4-4db1-9b34-223fce78834e button');\n",
              "      quickchartButtonEl.style.display =\n",
              "        google.colab.kernel.accessAllowed ? 'block' : 'none';\n",
              "    })();\n",
              "  </script>\n",
              "</div>\n",
              "    </div>\n",
              "  </div>\n"
            ]
          },
          "metadata": {},
          "execution_count": 26
        }
      ]
    },
    {
      "cell_type": "code",
      "source": [
        "#Nilai koefisien regresi intersep (beta 0)\n",
        "regressor.intercept_[0]"
      ],
      "metadata": {
        "colab": {
          "base_uri": "https://localhost:8080/"
        },
        "id": "E19vtlxG3NgE",
        "outputId": "3d8daf9a-dd0c-47a7-eead-e0f35ea6fc7c"
      },
      "execution_count": null,
      "outputs": [
        {
          "output_type": "execute_result",
          "data": {
            "text/plain": [
              "16705617.741085265"
            ]
          },
          "metadata": {},
          "execution_count": 27
        }
      ]
    },
    {
      "cell_type": "code",
      "source": [
        "y_pred = regressor.predict(X_test)"
      ],
      "metadata": {
        "id": "6ijh-skI3RsM"
      },
      "execution_count": null,
      "outputs": []
    },
    {
      "cell_type": "code",
      "source": [
        "#Menampilkan nilai prediksi\n",
        "df = pd.DataFrame({'Actual': y_test.flatten(), 'Predicted': y_pred.flatten()})\n",
        "df1 = df.head(10)\n",
        "df1"
      ],
      "metadata": {
        "colab": {
          "base_uri": "https://localhost:8080/",
          "height": 363
        },
        "id": "cjZjwqfK3RuJ",
        "outputId": "7bbe6440-48e2-4ad2-d6f5-38619daa989e"
      },
      "execution_count": null,
      "outputs": [
        {
          "output_type": "execute_result",
          "data": {
            "text/plain": [
              "       Actual     Predicted\n",
              "0   4817300.0  8.535172e+06\n",
              "1  19882393.0  2.222195e+07\n",
              "2   4067581.0  4.319254e+06\n",
              "3    838375.0  2.212812e+06\n",
              "4   7561428.0  5.496877e+06\n",
              "5  16851518.0  7.745241e+06\n",
              "6    525171.0  4.548740e+06\n",
              "7   6655686.0  4.539362e+07\n",
              "8    829882.0  4.626727e+06\n",
              "9   4918917.0  7.714641e+05"
            ],
            "text/html": [
              "\n",
              "  <div id=\"df-b770cf4d-e4b4-4f12-aec3-86ed0a38d2d1\" class=\"colab-df-container\">\n",
              "    <div>\n",
              "<style scoped>\n",
              "    .dataframe tbody tr th:only-of-type {\n",
              "        vertical-align: middle;\n",
              "    }\n",
              "\n",
              "    .dataframe tbody tr th {\n",
              "        vertical-align: top;\n",
              "    }\n",
              "\n",
              "    .dataframe thead th {\n",
              "        text-align: right;\n",
              "    }\n",
              "</style>\n",
              "<table border=\"1\" class=\"dataframe\">\n",
              "  <thead>\n",
              "    <tr style=\"text-align: right;\">\n",
              "      <th></th>\n",
              "      <th>Actual</th>\n",
              "      <th>Predicted</th>\n",
              "    </tr>\n",
              "  </thead>\n",
              "  <tbody>\n",
              "    <tr>\n",
              "      <th>0</th>\n",
              "      <td>4817300.0</td>\n",
              "      <td>8.535172e+06</td>\n",
              "    </tr>\n",
              "    <tr>\n",
              "      <th>1</th>\n",
              "      <td>19882393.0</td>\n",
              "      <td>2.222195e+07</td>\n",
              "    </tr>\n",
              "    <tr>\n",
              "      <th>2</th>\n",
              "      <td>4067581.0</td>\n",
              "      <td>4.319254e+06</td>\n",
              "    </tr>\n",
              "    <tr>\n",
              "      <th>3</th>\n",
              "      <td>838375.0</td>\n",
              "      <td>2.212812e+06</td>\n",
              "    </tr>\n",
              "    <tr>\n",
              "      <th>4</th>\n",
              "      <td>7561428.0</td>\n",
              "      <td>5.496877e+06</td>\n",
              "    </tr>\n",
              "    <tr>\n",
              "      <th>5</th>\n",
              "      <td>16851518.0</td>\n",
              "      <td>7.745241e+06</td>\n",
              "    </tr>\n",
              "    <tr>\n",
              "      <th>6</th>\n",
              "      <td>525171.0</td>\n",
              "      <td>4.548740e+06</td>\n",
              "    </tr>\n",
              "    <tr>\n",
              "      <th>7</th>\n",
              "      <td>6655686.0</td>\n",
              "      <td>4.539362e+07</td>\n",
              "    </tr>\n",
              "    <tr>\n",
              "      <th>8</th>\n",
              "      <td>829882.0</td>\n",
              "      <td>4.626727e+06</td>\n",
              "    </tr>\n",
              "    <tr>\n",
              "      <th>9</th>\n",
              "      <td>4918917.0</td>\n",
              "      <td>7.714641e+05</td>\n",
              "    </tr>\n",
              "  </tbody>\n",
              "</table>\n",
              "</div>\n",
              "    <div class=\"colab-df-buttons\">\n",
              "\n",
              "  <div class=\"colab-df-container\">\n",
              "    <button class=\"colab-df-convert\" onclick=\"convertToInteractive('df-b770cf4d-e4b4-4f12-aec3-86ed0a38d2d1')\"\n",
              "            title=\"Convert this dataframe to an interactive table.\"\n",
              "            style=\"display:none;\">\n",
              "\n",
              "  <svg xmlns=\"http://www.w3.org/2000/svg\" height=\"24px\" viewBox=\"0 -960 960 960\">\n",
              "    <path d=\"M120-120v-720h720v720H120Zm60-500h600v-160H180v160Zm220 220h160v-160H400v160Zm0 220h160v-160H400v160ZM180-400h160v-160H180v160Zm440 0h160v-160H620v160ZM180-180h160v-160H180v160Zm440 0h160v-160H620v160Z\"/>\n",
              "  </svg>\n",
              "    </button>\n",
              "\n",
              "  <style>\n",
              "    .colab-df-container {\n",
              "      display:flex;\n",
              "      gap: 12px;\n",
              "    }\n",
              "\n",
              "    .colab-df-convert {\n",
              "      background-color: #E8F0FE;\n",
              "      border: none;\n",
              "      border-radius: 50%;\n",
              "      cursor: pointer;\n",
              "      display: none;\n",
              "      fill: #1967D2;\n",
              "      height: 32px;\n",
              "      padding: 0 0 0 0;\n",
              "      width: 32px;\n",
              "    }\n",
              "\n",
              "    .colab-df-convert:hover {\n",
              "      background-color: #E2EBFA;\n",
              "      box-shadow: 0px 1px 2px rgba(60, 64, 67, 0.3), 0px 1px 3px 1px rgba(60, 64, 67, 0.15);\n",
              "      fill: #174EA6;\n",
              "    }\n",
              "\n",
              "    .colab-df-buttons div {\n",
              "      margin-bottom: 4px;\n",
              "    }\n",
              "\n",
              "    [theme=dark] .colab-df-convert {\n",
              "      background-color: #3B4455;\n",
              "      fill: #D2E3FC;\n",
              "    }\n",
              "\n",
              "    [theme=dark] .colab-df-convert:hover {\n",
              "      background-color: #434B5C;\n",
              "      box-shadow: 0px 1px 3px 1px rgba(0, 0, 0, 0.15);\n",
              "      filter: drop-shadow(0px 1px 2px rgba(0, 0, 0, 0.3));\n",
              "      fill: #FFFFFF;\n",
              "    }\n",
              "  </style>\n",
              "\n",
              "    <script>\n",
              "      const buttonEl =\n",
              "        document.querySelector('#df-b770cf4d-e4b4-4f12-aec3-86ed0a38d2d1 button.colab-df-convert');\n",
              "      buttonEl.style.display =\n",
              "        google.colab.kernel.accessAllowed ? 'block' : 'none';\n",
              "\n",
              "      async function convertToInteractive(key) {\n",
              "        const element = document.querySelector('#df-b770cf4d-e4b4-4f12-aec3-86ed0a38d2d1');\n",
              "        const dataTable =\n",
              "          await google.colab.kernel.invokeFunction('convertToInteractive',\n",
              "                                                    [key], {});\n",
              "        if (!dataTable) return;\n",
              "\n",
              "        const docLinkHtml = 'Like what you see? Visit the ' +\n",
              "          '<a target=\"_blank\" href=https://colab.research.google.com/notebooks/data_table.ipynb>data table notebook</a>'\n",
              "          + ' to learn more about interactive tables.';\n",
              "        element.innerHTML = '';\n",
              "        dataTable['output_type'] = 'display_data';\n",
              "        await google.colab.output.renderOutput(dataTable, element);\n",
              "        const docLink = document.createElement('div');\n",
              "        docLink.innerHTML = docLinkHtml;\n",
              "        element.appendChild(docLink);\n",
              "      }\n",
              "    </script>\n",
              "  </div>\n",
              "\n",
              "\n",
              "<div id=\"df-1b2eb570-5d24-4dea-b221-d6e3acbbba5d\">\n",
              "  <button class=\"colab-df-quickchart\" onclick=\"quickchart('df-1b2eb570-5d24-4dea-b221-d6e3acbbba5d')\"\n",
              "            title=\"Suggest charts.\"\n",
              "            style=\"display:none;\">\n",
              "\n",
              "<svg xmlns=\"http://www.w3.org/2000/svg\" height=\"24px\"viewBox=\"0 0 24 24\"\n",
              "     width=\"24px\">\n",
              "    <g>\n",
              "        <path d=\"M19 3H5c-1.1 0-2 .9-2 2v14c0 1.1.9 2 2 2h14c1.1 0 2-.9 2-2V5c0-1.1-.9-2-2-2zM9 17H7v-7h2v7zm4 0h-2V7h2v10zm4 0h-2v-4h2v4z\"/>\n",
              "    </g>\n",
              "</svg>\n",
              "  </button>\n",
              "\n",
              "<style>\n",
              "  .colab-df-quickchart {\n",
              "      --bg-color: #E8F0FE;\n",
              "      --fill-color: #1967D2;\n",
              "      --hover-bg-color: #E2EBFA;\n",
              "      --hover-fill-color: #174EA6;\n",
              "      --disabled-fill-color: #AAA;\n",
              "      --disabled-bg-color: #DDD;\n",
              "  }\n",
              "\n",
              "  [theme=dark] .colab-df-quickchart {\n",
              "      --bg-color: #3B4455;\n",
              "      --fill-color: #D2E3FC;\n",
              "      --hover-bg-color: #434B5C;\n",
              "      --hover-fill-color: #FFFFFF;\n",
              "      --disabled-bg-color: #3B4455;\n",
              "      --disabled-fill-color: #666;\n",
              "  }\n",
              "\n",
              "  .colab-df-quickchart {\n",
              "    background-color: var(--bg-color);\n",
              "    border: none;\n",
              "    border-radius: 50%;\n",
              "    cursor: pointer;\n",
              "    display: none;\n",
              "    fill: var(--fill-color);\n",
              "    height: 32px;\n",
              "    padding: 0;\n",
              "    width: 32px;\n",
              "  }\n",
              "\n",
              "  .colab-df-quickchart:hover {\n",
              "    background-color: var(--hover-bg-color);\n",
              "    box-shadow: 0 1px 2px rgba(60, 64, 67, 0.3), 0 1px 3px 1px rgba(60, 64, 67, 0.15);\n",
              "    fill: var(--button-hover-fill-color);\n",
              "  }\n",
              "\n",
              "  .colab-df-quickchart-complete:disabled,\n",
              "  .colab-df-quickchart-complete:disabled:hover {\n",
              "    background-color: var(--disabled-bg-color);\n",
              "    fill: var(--disabled-fill-color);\n",
              "    box-shadow: none;\n",
              "  }\n",
              "\n",
              "  .colab-df-spinner {\n",
              "    border: 2px solid var(--fill-color);\n",
              "    border-color: transparent;\n",
              "    border-bottom-color: var(--fill-color);\n",
              "    animation:\n",
              "      spin 1s steps(1) infinite;\n",
              "  }\n",
              "\n",
              "  @keyframes spin {\n",
              "    0% {\n",
              "      border-color: transparent;\n",
              "      border-bottom-color: var(--fill-color);\n",
              "      border-left-color: var(--fill-color);\n",
              "    }\n",
              "    20% {\n",
              "      border-color: transparent;\n",
              "      border-left-color: var(--fill-color);\n",
              "      border-top-color: var(--fill-color);\n",
              "    }\n",
              "    30% {\n",
              "      border-color: transparent;\n",
              "      border-left-color: var(--fill-color);\n",
              "      border-top-color: var(--fill-color);\n",
              "      border-right-color: var(--fill-color);\n",
              "    }\n",
              "    40% {\n",
              "      border-color: transparent;\n",
              "      border-right-color: var(--fill-color);\n",
              "      border-top-color: var(--fill-color);\n",
              "    }\n",
              "    60% {\n",
              "      border-color: transparent;\n",
              "      border-right-color: var(--fill-color);\n",
              "    }\n",
              "    80% {\n",
              "      border-color: transparent;\n",
              "      border-right-color: var(--fill-color);\n",
              "      border-bottom-color: var(--fill-color);\n",
              "    }\n",
              "    90% {\n",
              "      border-color: transparent;\n",
              "      border-bottom-color: var(--fill-color);\n",
              "    }\n",
              "  }\n",
              "</style>\n",
              "\n",
              "  <script>\n",
              "    async function quickchart(key) {\n",
              "      const quickchartButtonEl =\n",
              "        document.querySelector('#' + key + ' button');\n",
              "      quickchartButtonEl.disabled = true;  // To prevent multiple clicks.\n",
              "      quickchartButtonEl.classList.add('colab-df-spinner');\n",
              "      try {\n",
              "        const charts = await google.colab.kernel.invokeFunction(\n",
              "            'suggestCharts', [key], {});\n",
              "      } catch (error) {\n",
              "        console.error('Error during call to suggestCharts:', error);\n",
              "      }\n",
              "      quickchartButtonEl.classList.remove('colab-df-spinner');\n",
              "      quickchartButtonEl.classList.add('colab-df-quickchart-complete');\n",
              "    }\n",
              "    (() => {\n",
              "      let quickchartButtonEl =\n",
              "        document.querySelector('#df-1b2eb570-5d24-4dea-b221-d6e3acbbba5d button');\n",
              "      quickchartButtonEl.style.display =\n",
              "        google.colab.kernel.accessAllowed ? 'block' : 'none';\n",
              "    })();\n",
              "  </script>\n",
              "</div>\n",
              "    </div>\n",
              "  </div>\n"
            ]
          },
          "metadata": {},
          "execution_count": 29
        }
      ]
    },
    {
      "cell_type": "code",
      "source": [
        "#Mengukur nilai MAE, MSE, RMSE, R-square\n",
        "print('Mean Absolute Error(MAE): ', metrics.mean_absolute_error(y_test, y_pred))\n",
        "print('Mean Squared Error(MSE): ', metrics.mean_squared_error(y_test, y_pred))\n",
        "print('Root Mean Squared Error(RMSE): ', np.sqrt(metrics.mean_squared_error(y_test, y_pred)))\n",
        "print('R2 Score:', round(metrics.r2_score(y_test, y_pred), 2))"
      ],
      "metadata": {
        "colab": {
          "base_uri": "https://localhost:8080/"
        },
        "id": "gwrU25px3Rxv",
        "outputId": "449ed8c8-db65-4b4d-8495-0bb0880c460e"
      },
      "execution_count": null,
      "outputs": [
        {
          "output_type": "stream",
          "name": "stdout",
          "text": [
            "Mean Absolute Error(MAE):  4939160.671171437\n",
            "Mean Squared Error(MSE):  108588996109295.27\n",
            "Root Mean Squared Error(RMSE):  10420604.402302932\n",
            "R2 Score: 0.61\n"
          ]
        }
      ]
    },
    {
      "cell_type": "code",
      "source": [
        "#Uji Signifikansi\n",
        "X = sm.add_constant(X)  # Menambahkan kolom konstanta (intercept)\n",
        "model = sm.OLS(y, X).fit()\n",
        "print(model.summary())"
      ],
      "metadata": {
        "colab": {
          "base_uri": "https://localhost:8080/"
        },
        "id": "bCz8DrUV3RzH",
        "outputId": "30e33e2b-9d2f-4c1a-d660-f68baa6bfc26"
      },
      "execution_count": null,
      "outputs": [
        {
          "output_type": "stream",
          "name": "stdout",
          "text": [
            "                            OLS Regression Results                            \n",
            "==============================================================================\n",
            "Dep. Variable:                      y   R-squared:                       0.573\n",
            "Model:                            OLS   Adj. R-squared:                  0.572\n",
            "Method:                 Least Squares   F-statistic:                     540.6\n",
            "Date:                Tue, 24 Oct 2023   Prob (F-statistic):               0.00\n",
            "Time:                        14:20:07   Log-Likelihood:                -99529.\n",
            "No. Observations:                5658   AIC:                         1.991e+05\n",
            "Df Residuals:                    5643   BIC:                         1.992e+05\n",
            "Df Model:                          14                                         \n",
            "Covariance Type:            nonrobust                                         \n",
            "==============================================================================\n",
            "                 coef    std err          t      P>|t|      [0.025      0.975]\n",
            "------------------------------------------------------------------------------\n",
            "const       1.301e+07   6.86e+06      1.895      0.058   -4.52e+05    2.65e+07\n",
            "x1         -1080.6934    103.498    -10.442      0.000   -1283.588    -877.798\n",
            "x2            -5.0225      0.774     -6.488      0.000      -6.540      -3.505\n",
            "x3          2.755e+07   3.66e+06      7.522      0.000    2.04e+07    3.47e+07\n",
            "x4         -3677.4173    6.8e+04     -0.054      0.957   -1.37e+05     1.3e+05\n",
            "x5         -1.843e+06   2.62e+05     -7.024      0.000   -2.36e+06   -1.33e+06\n",
            "x6          2.418e+06   3.81e+05      6.347      0.000    1.67e+06    3.16e+06\n",
            "x7         -1.741e+04   2612.456     -6.664      0.000   -2.25e+04   -1.23e+04\n",
            "x8         -3.062e+05   6.08e+04     -5.036      0.000   -4.25e+05   -1.87e+05\n",
            "x9          2.881e+04   3.51e+04      0.820      0.413   -4.01e+04    9.77e+04\n",
            "x10        -1.834e+04   1.53e+04     -1.199      0.231   -4.83e+04    1.17e+04\n",
            "x11         1.452e+06   8.35e+04     17.398      0.000    1.29e+06    1.62e+06\n",
            "x12        -1.479e+05   1.21e+05     -1.219      0.223   -3.86e+05       9e+04\n",
            "x13         1.169e+07   4.07e+06      2.874      0.004    3.72e+06    1.97e+07\n",
            "x14            0.0309      0.000     68.516      0.000       0.030       0.032\n",
            "==============================================================================\n",
            "Omnibus:                     1566.643   Durbin-Watson:                   0.020\n",
            "Prob(Omnibus):                  0.000   Jarque-Bera (JB):            47407.818\n",
            "Skew:                           0.695   Prob(JB):                         0.00\n",
            "Kurtosis:                      17.112   Cond. No.                     2.23e+10\n",
            "==============================================================================\n",
            "\n",
            "Notes:\n",
            "[1] Standard Errors assume that the covariance matrix of the errors is correctly specified.\n",
            "[2] The condition number is large, 2.23e+10. This might indicate that there are\n",
            "strong multicollinearity or other numerical problems.\n"
          ]
        }
      ]
    },
    {
      "cell_type": "markdown",
      "source": [
        "# **SUPPORT VECTOR REGRESSION**"
      ],
      "metadata": {
        "id": "tg6HtdKx4pFT"
      }
    },
    {
      "cell_type": "code",
      "source": [
        "svr = SVR(kernel='rbf')\n",
        "svr.fit(X_train, y_train)\n",
        "y_pred = svr.predict(X_test)\n",
        "\n",
        "mse = mean_squared_error(y_test, y_pred)\n",
        "r2 = r2_score(y_test, y_pred)\n",
        "\n",
        "print(f\"Mean Squared Error (MSE): {mse}\")\n",
        "print(f\"R-squared (R^2): {r2}\")"
      ],
      "metadata": {
        "colab": {
          "base_uri": "https://localhost:8080/"
        },
        "id": "uPo2GPJN3R06",
        "outputId": "4ec0647b-6849-446d-dca3-9a521b22aec2"
      },
      "execution_count": null,
      "outputs": [
        {
          "output_type": "stream",
          "name": "stderr",
          "text": [
            "/usr/local/lib/python3.10/dist-packages/sklearn/utils/validation.py:1143: DataConversionWarning: A column-vector y was passed when a 1d array was expected. Please change the shape of y to (n_samples, ), for example using ravel().\n",
            "  y = column_or_1d(y, warn=True)\n"
          ]
        },
        {
          "output_type": "stream",
          "name": "stdout",
          "text": [
            "Mean Squared Error (MSE): 316980742269304.56\n",
            "R-squared (R^2): -0.13932633566019503\n"
          ]
        }
      ]
    },
    {
      "cell_type": "markdown",
      "source": [
        "# **DECISION TREE REGRESSION**"
      ],
      "metadata": {
        "id": "PILKDijzEGQx"
      }
    },
    {
      "cell_type": "code",
      "source": [
        "# Initializing the Decision Tree Regression model\n",
        "model = DecisionTreeRegressor(random_state = 0)\n",
        "\n",
        "# Fitting the Decision Tree Regression model to the data\n",
        "model.fit(X_train, y_train)\n",
        "\n",
        "# Predicting the target values of the test set\n",
        "y_pred = model.predict(X_test)\n",
        "\n",
        "# RMSE (Root Mean Square Error) dan RSquare\n",
        "mse = mean_squared_error(y_test, y_pred)\n",
        "r2 = r2_score(y_test, y_pred)\n",
        "\n",
        "print(f\"Mean Squared Error (MSE): {mse}\")\n",
        "print(f\"R-squared (R^2): {r2}\")"
      ],
      "metadata": {
        "colab": {
          "base_uri": "https://localhost:8080/"
        },
        "id": "oFCYADTqyL45",
        "outputId": "7616a8ac-168f-4b88-d06a-b98ed4ce80e4"
      },
      "execution_count": null,
      "outputs": [
        {
          "output_type": "stream",
          "name": "stdout",
          "text": [
            "Mean Squared Error (MSE): 7383389649133.764\n",
            "R-squared (R^2): 0.9734618254299117\n"
          ]
        }
      ]
    },
    {
      "cell_type": "code",
      "source": [
        "#Kepentingan Fitur pada model\n",
        "feature_importance = model.feature_importances_\n",
        "for i, importance in enumerate(feature_importance):\n",
        "    print(f\"Fitur {i}: {importance}\")"
      ],
      "metadata": {
        "colab": {
          "base_uri": "https://localhost:8080/"
        },
        "id": "He1tD2oX0fJF",
        "outputId": "eb97f288-96dd-4d93-8ff7-f15d83723424"
      },
      "execution_count": null,
      "outputs": [
        {
          "output_type": "stream",
          "name": "stdout",
          "text": [
            "Fitur 0: 0.031901780138779805\n",
            "Fitur 1: 0.11057308009324125\n",
            "Fitur 2: 0.21516319373613926\n",
            "Fitur 3: 0.10433483312436719\n",
            "Fitur 4: 0.017231067747467303\n",
            "Fitur 5: 0.055663057482003155\n",
            "Fitur 6: 0.00047053828221577636\n",
            "Fitur 7: 0.0012256008453517468\n",
            "Fitur 8: 0.0005547813067560535\n",
            "Fitur 9: 0.0031302586508883926\n",
            "Fitur 10: 2.6380220160379366e-05\n",
            "Fitur 11: 9.317852756916103e-08\n",
            "Fitur 12: 0.0010044449607870245\n",
            "Fitur 13: 0.45872089023331525\n"
          ]
        }
      ]
    },
    {
      "cell_type": "code",
      "source": [
        "from sklearn.tree import export_graphviz\n",
        "\n",
        "# export the decision tree model to a tree_structure.dot file\n",
        "# paste the contents of the file to webgraphviz.com\n",
        "export_graphviz(model, out_file ='tree_structure.dot',\n",
        "               feature_names =['new_vaccinations_smoothed_per_million','new_people_vaccinated_smoothed','new_people_vaccinated_smoothed_per_hundred', 'median_age', 'aged_65_older', 'aged_70_older', 'cardiovasc_death_rate','diabetes_prevalence', 'female_smokers', 'male_smokers', 'hospital_beds_per_thousand','life_expectancy', 'human_development_index', 'population'])"
      ],
      "metadata": {
        "id": "iFxfmkXjB5VL"
      },
      "execution_count": null,
      "outputs": []
    }
  ]
}
